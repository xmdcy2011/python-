{
 "cells": [
  {
   "cell_type": "markdown",
   "metadata": {},
   "source": [
    "# python中的迭代协议"
   ]
  },
  {
   "cell_type": "markdown",
   "metadata": {},
   "source": [
    "什么是迭代协议？\n",
    "\n",
    "+ Iterable\n",
    "+ Iterator\n",
    "\n",
    "迭代器是什么？\n",
    "\n",
    "迭代器是访问集合内元素的一种方式，一般用来遍历数据。 迭代器和以下标访问方式不一样，迭代器是不能返回的，迭代器提供了一种惰性访问数据的方式"
   ]
  },
  {
   "cell_type": "code",
   "execution_count": null,
   "metadata": {},
   "outputs": [],
   "source": [
    "class Iterable(metaclass=ABCMeta):\n",
    "\n",
    "    __slots__ = ()\n",
    "\n",
    "    @abstractmethod\n",
    "    def __iter__(self):\n",
    "        while False:\n",
    "            yield None\n",
    "\n",
    "    @classmethod\n",
    "    def __subclasshook__(cls, C):\n",
    "        if cls is Iterable:\n",
    "            return _check_methods(C, \"__iter__\")\n",
    "        return NotImplemented\n",
    "\n",
    "\n",
    "class Iterator(Iterable):\n",
    "\n",
    "    __slots__ = ()\n",
    "\n",
    "    @abstractmethod\n",
    "    def __next__(self):\n",
    "        'Return the next item from the iterator. When exhausted, raise StopIteration'\n",
    "        raise StopIteration\n",
    "\n",
    "    def __iter__(self):\n",
    "        return self\n",
    "\n",
    "    @classmethod\n",
    "    def __subclasshook__(cls, C):\n",
    "        if cls is Iterator:\n",
    "            return _check_methods(C, '__iter__', '__next__')\n",
    "        return NotImplemented\n",
    "    "
   ]
  },
  {
   "cell_type": "code",
   "execution_count": 22,
   "metadata": {},
   "outputs": [
    {
     "name": "stdout",
     "output_type": "stream",
     "text": [
      "True\n",
      "['__add__', '__class__', '__contains__', '__delattr__', '__delitem__', '__dir__', '__doc__', '__eq__', '__format__', '__ge__', '__getattribute__', '__getitem__', '__gt__', '__hash__', '__iadd__', '__imul__', '__init__', '__init_subclass__', '__iter__', '__le__', '__len__', '__lt__', '__mul__', '__ne__', '__new__', '__reduce__', '__reduce_ex__', '__repr__', '__reversed__', '__rmul__', '__setattr__', '__setitem__', '__sizeof__', '__str__', '__subclasshook__', 'append', 'clear', 'copy', 'count', 'extend', 'index', 'insert', 'pop', 'remove', 'reverse', 'sort']\n",
      "1\n",
      "False\n"
     ]
    }
   ],
   "source": [
    "from collections.abc import Iterable, Iterator\n",
    "a = [1, 2]\n",
    "print(isinstance(a, Iterable))\n",
    "print(dir(a))\n",
    "print(a[0])\n",
    "print(isinstance(a, Iterator))"
   ]
  },
  {
   "cell_type": "markdown",
   "metadata": {},
   "source": [
    "# 什么是迭代器和可迭代对象"
   ]
  },
  {
   "cell_type": "markdown",
   "metadata": {},
   "source": [
    "实现 \\_\\_iter__ 时，必须返回 Iterator 对象"
   ]
  },
  {
   "cell_type": "code",
   "execution_count": null,
   "metadata": {},
   "outputs": [],
   "source": [
    "from collections.abc import Iterator\n",
    "\n",
    "\n",
    "class MyIterator(Iterator):\n",
    "    def __init__(self, employee):\n",
    "        self.employee = employee\n",
    "        self.index = 0\n",
    "\n",
    "    def __next__(self):\n",
    "        # 真正返回迭代值的逻辑\n",
    "        # 迭代器不支持切片，不会接收索引值，只能一步一步走\n",
    "        # 遍历大文件\n",
    "        try:\n",
    "            word = self.employee[self.index]\n",
    "        except IndexError:\n",
    "            raise StopIteration\n",
    "        self.index += 1\n",
    "        return word\n",
    "\n",
    "\n",
    "class Company:\n",
    "    def __init__(self, employee):\n",
    "        self.employee = employee\n",
    "\n",
    "    # def __iter__(self):\n",
    "    #     return 1        # TypeError: iter() returned non-iterator of type 'int'\n",
    "\n",
    "    # def __iter__(self):\n",
    "    #     return self     # TypeError: iter() returned non-iterator of type 'Company'\n",
    "\n",
    "    # 使用内置方法 iter\n",
    "    # def __iter__(self):\n",
    "    #     return iter(self.employee)  # <iterator object at 0x000001F512B907C8>\n",
    "\n",
    "    # 使用自定义 MyIterator ******\n",
    "    def __iter__(self):\n",
    "        return MyIterator(self.employee)    # <__main__.MyIterator object at 0x0000013462EF0848>\n",
    "\n",
    "    def __getitem__(self, index):\n",
    "        return self.employee[index]\n",
    "\n",
    "\n",
    "if __name__ == '__main__':\n",
    "    company = Company(['linda', 'alex', 'catherine'])\n",
    "    my_iterator = iter(company)\n",
    "    print(my_iterator)\n",
    "    # for 循环首先查找 __iter__；如果没有自动生成一个__iter__，里面遍历__getitem__\n",
    "    # for item in company:\n",
    "    #     print(item)\n",
    "\n",
    "    while True:\n",
    "        try:\n",
    "            print(next(my_iterator))\n",
    "        except StopIteration:\n",
    "            break\n",
    "\n",
    "    \"\"\"\n",
    "    迭代器设计模式，不要在Company中实现 __next__ 方法，而要单独实现MyIterator实现，Company中__iter__调用MyIterator就行\n",
    "    \"\"\""
   ]
  },
  {
   "cell_type": "markdown",
   "metadata": {},
   "source": [
    "# 生成器函数的使用"
   ]
  },
  {
   "cell_type": "markdown",
   "metadata": {},
   "source": [
    "生成器函数，函数里包含 yield 关键字\n",
    "\n",
    "+ yield\n",
    "+ 不再是普通的函数\n",
    "\n",
    "1. 执行生成器函数得到生成器对象，可for循环取值\n",
    "2. 生成器函数可以多次返回值，流程的变化"
   ]
  },
  {
   "cell_type": "code",
   "execution_count": 23,
   "metadata": {},
   "outputs": [
    {
     "name": "stdout",
     "output_type": "stream",
     "text": [
      "1\n",
      "2\n",
      "3\n"
     ]
    }
   ],
   "source": [
    "def gen_func():\n",
    "    yield 1\n",
    "    yield 2\n",
    "    yield 3\n",
    "\n",
    "if __name__ == '__main__':\n",
    "    # 返回为生成器对象，python编译字节码的时候产生\n",
    "    gen = gen_func()\n",
    "\n",
    "    # 生成器对象也是实现了迭代协议的，可以for循环\n",
    "    for value in gen:\n",
    "        print(value)"
   ]
  },
  {
   "cell_type": "markdown",
   "metadata": {},
   "source": [
    "斐波拉契 1 1 2 3 5 8 …\n",
    "\n",
    "- 根据位置获取对应值\n",
    "- 根据位置获取所有值"
   ]
  },
  {
   "cell_type": "code",
   "execution_count": 24,
   "metadata": {},
   "outputs": [
    {
     "name": "stdout",
     "output_type": "stream",
     "text": [
      "55\n",
      "[1, 1, 2, 3, 5, 8, 13, 21, 34, 55]\n",
      "1\n",
      "1\n",
      "2\n",
      "3\n",
      "5\n",
      "8\n",
      "13\n",
      "21\n",
      "34\n",
      "55\n"
     ]
    }
   ],
   "source": [
    "# 获取对应位置的值\n",
    "def fib(index):\n",
    "    if index <= 2:\n",
    "        return 1\n",
    "    else:\n",
    "        return fib(index-1) + fib(index-2)\n",
    "\n",
    "\n",
    "# 获取整个过程\n",
    "def fib2(index):\n",
    "    ret_list = []\n",
    "    n, a, b = 0, 0, 1\n",
    "    while n < index:\n",
    "        ret_list.append(b)\n",
    "        a, b = b, a + b\n",
    "        n += 1\n",
    "    return ret_list\n",
    "\n",
    "\n",
    "# yield\n",
    "def gen_fib(index):\n",
    "    n, a, b = 0, 0, 1\n",
    "    while n < index:\n",
    "        yield b\n",
    "        a, b = b, a + b\n",
    "        n += 1\n",
    "\n",
    "\n",
    "print(fib(10))\n",
    "print(fib2(10))\n",
    "for value in gen_fib(10):\n",
    "    print(value)"
   ]
  },
  {
   "cell_type": "markdown",
   "metadata": {},
   "source": [
    "# python是如何实现生成器的"
   ]
  },
  {
   "cell_type": "markdown",
   "metadata": {},
   "source": [
    "+ 什么场景下运用生成器\n",
    "+ 生成器内部实现原理\n",
    "+ 生成器函数与普通函数区别"
   ]
  },
  {
   "cell_type": "markdown",
   "metadata": {},
   "source": [
    "**python中函数工作原理**"
   ]
  },
  {
   "cell_type": "markdown",
   "metadata": {},
   "source": [
    "python.exe会用一个叫做PyEval_EvalFrameEx(c函数)去执行foo函数 首先会创建一个栈帧(stack_frame)，一个上下文"
   ]
  },
  {
   "cell_type": "code",
   "execution_count": 30,
   "metadata": {},
   "outputs": [
    {
     "name": "stdout",
     "output_type": "stream",
     "text": [
      "  5           0 LOAD_GLOBAL              0 (bar)\n",
      "              2 CALL_FUNCTION            0\n",
      "              4 POP_TOP\n",
      "              6 LOAD_CONST               0 (None)\n",
      "              8 RETURN_VALUE\n",
      "None\n",
      "bar\n",
      "foo\n"
     ]
    }
   ],
   "source": [
    "import inspect\n",
    "frame = None\n",
    "\n",
    "def foo():\n",
    "    bar()\n",
    "\n",
    "def bar():\n",
    "    global frame\n",
    "    frame = inspect.currentframe()\n",
    "\n",
    "# 查看函数实现原理\n",
    "import dis\n",
    "print(dis.dis(foo))\n",
    "\n",
    "foo()\n",
    "print(frame.f_code.co_name)         # 函数名 bar\n",
    "\n",
    "caller_frame = frame.f_back\n",
    "print(caller_frame.f_code.co_name)  # 函数名 foo"
   ]
  },
  {
   "cell_type": "markdown",
   "metadata": {},
   "source": [
    "python中一切皆对象，栈帧对象中运行foo函数字节码对象 当foo调用子函数bar，又会创建一个栈帧对象，在此栈帧对象中运行bar函数字节码对象\n",
    "\n",
    "所有的栈帧都是分配再堆内存上(不会自动释放)，这就对定了栈帧可以独立于调用者存在;不用于静态语言的调用，静态语言是栈的形式，调用完就自动释放"
   ]
  },
  {
   "cell_type": "markdown",
   "metadata": {},
   "source": [
    "![function](img/function.jpg)"
   ]
  },
  {
   "cell_type": "markdown",
   "metadata": {},
   "source": [
    "**python中生成器函数工作原理**"
   ]
  },
  {
   "cell_type": "code",
   "execution_count": 31,
   "metadata": {},
   "outputs": [
    {
     "name": "stdout",
     "output_type": "stream",
     "text": [
      "  2           0 LOAD_CONST               1 ('China')\n",
      "              2 STORE_FAST               0 (address)\n",
      "\n",
      "  3           4 LOAD_CONST               2 (1)\n",
      "              6 YIELD_VALUE\n",
      "              8 POP_TOP\n",
      "\n",
      "  4          10 LOAD_CONST               3 ('linda')\n",
      "             12 STORE_FAST               1 (name)\n",
      "\n",
      "  5          14 LOAD_CONST               4 (2)\n",
      "             16 YIELD_VALUE\n",
      "             18 POP_TOP\n",
      "\n",
      "  6          20 LOAD_CONST               5 (20)\n",
      "             22 STORE_FAST               2 (age)\n",
      "\n",
      "  7          24 LOAD_CONST               6 ('done')\n",
      "             26 RETURN_VALUE\n",
      "None\n",
      "-1\n",
      "{}\n",
      "\n",
      "first value: 1\n",
      "6\n",
      "{'address': 'China'}\n",
      "\n",
      "second value: 2\n",
      "16\n",
      "{'address': 'China', 'name': 'linda'}\n"
     ]
    }
   ],
   "source": [
    "def gen_func():\n",
    "    address = 'China'\n",
    "    yield 1\n",
    "    name = 'linda'\n",
    "    yield 2\n",
    "    age = 20\n",
    "    return 'done'\n",
    "\n",
    "\n",
    "gen = gen_func()\n",
    "\n",
    "import dis\n",
    "print(dis.dis(gen))\n",
    "\n",
    "print(gen.gi_frame.f_lasti)\n",
    "print(gen.gi_frame.f_locals)\n",
    "\n",
    "print('\\nfirst value: %s' % next(gen))\n",
    "print(gen.gi_frame.f_lasti)\n",
    "print(gen.gi_frame.f_locals)\n",
    "\n",
    "print('\\nsecond value: %s' % next(gen))\n",
    "print(gen.gi_frame.f_lasti)\n",
    "print(gen.gi_frame.f_locals)\n"
   ]
  },
  {
   "cell_type": "markdown",
   "metadata": {},
   "source": [
    "![generator](img/generator.jpg)"
   ]
  },
  {
   "cell_type": "markdown",
   "metadata": {},
   "source": [
    "+ 控制整个生成器函数暂定和继续前进 gen.gi_frame.f_lasti\n",
    "+ 整个生成器函数作用域逐渐变化 gen.gi_frame.f_locals"
   ]
  },
  {
   "cell_type": "markdown",
   "metadata": {},
   "source": [
    "# 生成器在UserList中的应用"
   ]
  },
  {
   "cell_type": "code",
   "execution_count": 33,
   "metadata": {},
   "outputs": [
    {
     "name": "stdout",
     "output_type": "stream",
     "text": [
      "[3, 2, 1]\n"
     ]
    }
   ],
   "source": [
    "class MyList:\n",
    "    def __init__(self):\n",
    "        self.data = []\n",
    "\n",
    "    def __getitem__(self, index):\n",
    "        return self.data[index]\n",
    "\n",
    "    def __setitem__(self, index, value):\n",
    "        self.data[index] = value\n",
    "\n",
    "    def insert(self, index, item):\n",
    "        self.data.insert(index, item)\n",
    "\n",
    "\n",
    "ll = MyList()\n",
    "ll.insert(0, 1)\n",
    "ll.insert(0, 2)\n",
    "ll.insert(0, 3)\n",
    "print(ll.data)"
   ]
  },
  {
   "cell_type": "code",
   "execution_count": 34,
   "metadata": {},
   "outputs": [
    {
     "name": "stdout",
     "output_type": "stream",
     "text": [
      "{}\n",
      "value1\n",
      "{'key1': 'value1', 'key2': 'value2'}\n"
     ]
    }
   ],
   "source": [
    "class MyDict:\n",
    "    def __init__(self):\n",
    "        self.data = {}\n",
    "\n",
    "    def __getitem__(self, item):\n",
    "        return self.data[item]\n",
    "\n",
    "    def __setitem__(self, key, value):\n",
    "        self.data[key] = value\n",
    "\n",
    "    def update(self, **kw):\n",
    "        for key, value in kw.items():\n",
    "            self[key] = value\n",
    "\n",
    "dd = MyDict()\n",
    "print(dd.data)\n",
    "\n",
    "dd.update(key1='value1', key2='value2')\n",
    "print(dd['key1'])\n",
    "print(dd.data)"
   ]
  },
  {
   "cell_type": "markdown",
   "metadata": {},
   "source": [
    "# 生成器如何读取大文件"
   ]
  },
  {
   "cell_type": "markdown",
   "metadata": {},
   "source": [
    "场景：500G 文件 特殊只有一行，特殊分割符号 {|}"
   ]
  },
  {
   "cell_type": "code",
   "execution_count": 35,
   "metadata": {},
   "outputs": [
    {
     "ename": "FileNotFoundError",
     "evalue": "[Errno 2] No such file or directory: 'input'",
     "output_type": "error",
     "traceback": [
      "\u001b[0;31m---------------------------------------------------------------------------\u001b[0m",
      "\u001b[0;31mFileNotFoundError\u001b[0m                         Traceback (most recent call last)",
      "\u001b[1;32m/deep-learning/python高级/第九章 迭代器和生成器.ipynb Cell 28'\u001b[0m in \u001b[0;36m<module>\u001b[0;34m\u001b[0m\n\u001b[1;32m     <a href='vscode-notebook-cell:/deep-learning/python%E9%AB%98%E7%BA%A7/%E7%AC%AC%E4%B9%9D%E7%AB%A0%20%E8%BF%AD%E4%BB%A3%E5%99%A8%E5%92%8C%E7%94%9F%E6%88%90%E5%99%A8.ipynb#ch0000031?line=10'>11</a>\u001b[0m             \u001b[39mbreak\u001b[39;00m\n\u001b[1;32m     <a href='vscode-notebook-cell:/deep-learning/python%E9%AB%98%E7%BA%A7/%E7%AC%AC%E4%B9%9D%E7%AB%A0%20%E8%BF%AD%E4%BB%A3%E5%99%A8%E5%92%8C%E7%94%9F%E6%88%90%E5%99%A8.ipynb#ch0000031?line=11'>12</a>\u001b[0m         buf \u001b[39m+\u001b[39m\u001b[39m=\u001b[39m chunk\n\u001b[0;32m---> <a href='vscode-notebook-cell:/deep-learning/python%E9%AB%98%E7%BA%A7/%E7%AC%AC%E4%B9%9D%E7%AB%A0%20%E8%BF%AD%E4%BB%A3%E5%99%A8%E5%92%8C%E7%94%9F%E6%88%90%E5%99%A8.ipynb#ch0000031?line=13'>14</a>\u001b[0m \u001b[39mwith\u001b[39;00m \u001b[39mopen\u001b[39;49m(\u001b[39m'\u001b[39;49m\u001b[39minput\u001b[39;49m\u001b[39m'\u001b[39;49m) \u001b[39mas\u001b[39;00m f:\n\u001b[1;32m     <a href='vscode-notebook-cell:/deep-learning/python%E9%AB%98%E7%BA%A7/%E7%AC%AC%E4%B9%9D%E7%AB%A0%20%E8%BF%AD%E4%BB%A3%E5%99%A8%E5%92%8C%E7%94%9F%E6%88%90%E5%99%A8.ipynb#ch0000031?line=14'>15</a>\u001b[0m     \u001b[39mfor\u001b[39;00m line \u001b[39min\u001b[39;00m my_readline(f, \u001b[39m'\u001b[39m\u001b[39m{\u001b[39m\u001b[39m|}\u001b[39m\u001b[39m'\u001b[39m):\n\u001b[1;32m     <a href='vscode-notebook-cell:/deep-learning/python%E9%AB%98%E7%BA%A7/%E7%AC%AC%E4%B9%9D%E7%AB%A0%20%E8%BF%AD%E4%BB%A3%E5%99%A8%E5%92%8C%E7%94%9F%E6%88%90%E5%99%A8.ipynb#ch0000031?line=15'>16</a>\u001b[0m         \u001b[39mprint\u001b[39m(line)\n",
      "\u001b[0;31mFileNotFoundError\u001b[0m: [Errno 2] No such file or directory: 'input'"
     ]
    }
   ],
   "source": [
    "def my_readline(f, newline):\n",
    "    buf = ''\n",
    "    while True:\n",
    "        while newline in buf:\n",
    "            pos = buf.index(newline)\n",
    "            yield buf[:pos]\n",
    "            buf = buf[pos + len(newline):]\n",
    "        chunk = f.read(4096 * 10)\n",
    "        if not chunk:\n",
    "            yield buf\n",
    "            break\n",
    "        buf += chunk\n",
    "\n",
    "with open('input') as f:\n",
    "    for line in my_readline(f, '{|}'):\n",
    "        print(line)"
   ]
  }
 ],
 "metadata": {
  "interpreter": {
   "hash": "a84367e06d81b283738822b4c3545326a8c48bec7fd7a2bbea16776a67f04a11"
  },
  "kernelspec": {
   "display_name": "Python 3.8.12 ('d2l-zh')",
   "language": "python",
   "name": "python3"
  },
  "language_info": {
   "codemirror_mode": {
    "name": "ipython",
    "version": 3
   },
   "file_extension": ".py",
   "mimetype": "text/x-python",
   "name": "python",
   "nbconvert_exporter": "python",
   "pygments_lexer": "ipython3",
   "version": "3.8.12"
  },
  "orig_nbformat": 4
 },
 "nbformat": 4,
 "nbformat_minor": 2
}
