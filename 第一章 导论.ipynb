{
 "cells": [
  {
   "cell_type": "markdown",
   "id": "74f8bedd",
   "metadata": {},
   "source": [
    "# 课程介绍"
   ]
  },
  {
   "cell_type": "markdown",
   "id": "04de97eb",
   "metadata": {},
   "source": [
    "**你是否遇到**"
   ]
  },
  {
   "cell_type": "markdown",
   "id": "47fd5475",
   "metadata": {},
   "source": [
    "+ 看不懂优秀库和框架的源码\n",
    "+ 不知道如何才能进一步优化自己的代码\n",
    "+ asyncio、tornado 等异步框架背后的原理\n",
    "+ python 代码灵活背后的设计原理\n",
    "+ 对生成器稀里糊涂\n",
    "+ 很多 python 抛的异常看不懂"
   ]
  },
  {
   "cell_type": "markdown",
   "id": "fb980088",
   "metadata": {},
   "source": [
    "**如何进阶**"
   ]
  },
  {
   "cell_type": "markdown",
   "id": "4f6aee52",
   "metadata": {},
   "source": [
    "+ 和大神一起\n",
    "+ 阅读优秀源码、懂原理\n",
    "+ 面试、多做项目"
   ]
  },
  {
   "cell_type": "markdown",
   "id": "fa0bb527",
   "metadata": {},
   "source": [
    "**课程收获**"
   ]
  },
  {
   "cell_type": "markdown",
   "id": "15cdd804",
   "metadata": {},
   "source": [
    "+ 应对 python 高级工程师面试\n",
    "+ 从深度和广度都扩充自己的知识体系\n",
    "+ 能应对各种难度的框架和库的源码\n",
    "+ 深入理解 python 的设计理念和背后的原理"
   ]
  }
 ],
 "metadata": {
  "kernelspec": {
   "display_name": "Python 3 (ipykernel)",
   "language": "python",
   "name": "python3"
  },
  "language_info": {
   "codemirror_mode": {
    "name": "ipython",
    "version": 3
   },
   "file_extension": ".py",
   "mimetype": "text/x-python",
   "name": "python",
   "nbconvert_exporter": "python",
   "pygments_lexer": "ipython3",
   "version": "3.8.12"
  },
  "toc": {
   "base_numbering": 1,
   "nav_menu": {},
   "number_sections": true,
   "sideBar": true,
   "skip_h1_title": false,
   "title_cell": "Table of Contents",
   "title_sidebar": "Contents",
   "toc_cell": false,
   "toc_position": {
    "height": "calc(100% - 180px)",
    "left": "10px",
    "top": "150px",
    "width": "384px"
   },
   "toc_section_display": true,
   "toc_window_display": true
  }
 },
 "nbformat": 4,
 "nbformat_minor": 5
}
