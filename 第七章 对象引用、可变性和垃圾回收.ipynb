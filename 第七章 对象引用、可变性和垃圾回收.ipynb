{
 "cells": [
  {
   "cell_type": "markdown",
   "metadata": {},
   "source": [
    "# python 的变量是什么"
   ]
  },
  {
   "cell_type": "markdown",
   "metadata": {},
   "source": [
    "+ java 中变量相当于申请一个盒子，盒子有类型大小之说\n",
    "+ python 中变量，类似一个指针，指针的值是固定的，类似便利贴，可以贴到任何对象上"
   ]
  },
  {
   "cell_type": "code",
   "execution_count": 1,
   "metadata": {},
   "outputs": [
    {
     "name": "stdout",
     "output_type": "stream",
     "text": [
      "True\n",
      "140501136200896 140501136200896\n",
      "[1, 2, 3, 100]\n"
     ]
    }
   ],
   "source": [
    "# a 贴到 1 上面\n",
    "a = 1\n",
    "# a 再贴到 'abc' 上\n",
    "a = 'abc'\n",
    "# 注意顺序: 先生成对象，然后贴便利贴\n",
    "\n",
    "la = [1, 2, 3]\n",
    "lb = la\n",
    "# is, 本质 id(a) 与 id(b) 比较\n",
    "print(lb is la)       # True, id 相同\n",
    "print(id(la), id(lb))\n",
    "\n",
    "la.append(100)\n",
    "print(lb)  # lb 和 la 指向相同对象，lb 会发生变化"
   ]
  },
  {
   "cell_type": "markdown",
   "metadata": {},
   "source": [
    "# is 和 == 区别"
   ]
  },
  {
   "cell_type": "markdown",
   "metadata": {},
   "source": [
    "+ is 比较 id()\n",
    "+ == 比较 变量值"
   ]
  },
  {
   "cell_type": "code",
   "execution_count": 3,
   "metadata": {},
   "outputs": [
    {
     "name": "stdout",
     "output_type": "stream",
     "text": [
      "False\n",
      "140501138848896 140501138847424\n",
      "True\n",
      "True\n",
      "True\n",
      "True\n"
     ]
    }
   ],
   "source": [
    "# is, 本质 id(a) 与 id(b) 比较\n",
    "# = 右边为对象时，表示生成新对象\n",
    "a = [1, 2, 3, 4]\n",
    "b = [1, 2, 3, 4]\n",
    "print(a is b)   # False, 说明 id 不同\n",
    "print(id(a), id(b))\n",
    "print(a == b)   # True, 值相同，内部 __eq__ 魔法函数\n",
    "\n",
    "# 内部优化 小整数、小字符串 全局唯一 intern机制\n",
    "a1 = 1\n",
    "a2 = 1\n",
    "print(a1 is a2)     # True\n",
    "\n",
    "s1 = 'abc'\n",
    "s2 = 'abc'\n",
    "print(s1 is s2)     # True\n",
    "\n",
    "\n",
    "class People:\n",
    "    pass\n",
    "\n",
    "# People 全局唯一\n",
    "person = People()\n",
    "print(type(person) is People)   # True"
   ]
  },
  {
   "cell_type": "markdown",
   "metadata": {},
   "source": [
    "# del 语句和垃圾回收"
   ]
  },
  {
   "cell_type": "code",
   "execution_count": 4,
   "metadata": {},
   "outputs": [],
   "source": [
    "# python 中垃圾回收算法为 引用计数\n",
    "\n",
    "a = 1\n",
    "b = a\n",
    "del a"
   ]
  },
  {
   "cell_type": "markdown",
   "metadata": {},
   "source": [
    "+ del 触发 \\_\\_del__ 逻辑\n",
    "+ 对象引用计数为 0 时，会被垃圾回收"
   ]
  },
  {
   "cell_type": "markdown",
   "metadata": {},
   "source": [
    "#  一个经典的参数错误"
   ]
  },
  {
   "cell_type": "code",
   "execution_count": 5,
   "metadata": {},
   "outputs": [
    {
     "name": "stdout",
     "output_type": "stream",
     "text": [
      "a: 1, b: 2, c: 3\n"
     ]
    }
   ],
   "source": [
    "def add(a, b):\n",
    "    a += b\n",
    "    return a\n",
    "\n",
    "# a, b 都是整型时\n",
    "a, b = 1, 2\n",
    "c = add(a, b)\n",
    "print('a: %s, b: %s, c: %s' % (a, b, c))\n",
    "# 结果为 a: 1, b: 2, c: 3\n",
    "# a 未发生变化"
   ]
  },
  {
   "cell_type": "code",
   "execution_count": 6,
   "metadata": {},
   "outputs": [
    {
     "name": "stdout",
     "output_type": "stream",
     "text": [
      "a: [1, 2, 3, 4], b: [3, 4], c: [1, 2, 3, 4]\n"
     ]
    }
   ],
   "source": [
    "# a, b 都是列表时\n",
    "a, b = [1, 2], [3, 4]\n",
    "c = add(a, b)\n",
    "print('a: %s, b: %s, c: %s' % (a, b, c))\n",
    "# 结果为 a: [1, 2, 3, 4], b: [3, 4], c: [1, 2, 3, 4]\n",
    "# a 发生变化"
   ]
  },
  {
   "cell_type": "code",
   "execution_count": null,
   "metadata": {},
   "outputs": [],
   "source": [
    "# a, b 都是元组时\n",
    "a, b = (1, 2), (3, 4)\n",
    "c = add(a, b)\n",
    "print('a: %s, b: %s, c: %s' % (a, b, c))\n",
    "# 结果为 a: (1, 2), b: (3, 4), c: (1, 2, 3, 4)\n",
    "# a 未发生变化"
   ]
  },
  {
   "cell_type": "code",
   "execution_count": 23,
   "metadata": {},
   "outputs": [
    {
     "name": "stdout",
     "output_type": "stream",
     "text": [
      "['staff111']\n",
      "['staff2']\n",
      "['staff3']\n"
     ]
    }
   ],
   "source": [
    "class Company:\n",
    "    def __init__(self, name, staff_list=[]):\n",
    "        self.name = name\n",
    "        self.staff_list = staff_list\n",
    "\n",
    "    def add(self, staff):\n",
    "        self.staff_list.append(staff)\n",
    "\n",
    "    def remove(self, staff):\n",
    "        self.staff_list.remove(staff)\n",
    "\n",
    "\n",
    "if __name__ == '__main__':\n",
    "    com1 = Company('com1', ['staff1', 'staff11'])\n",
    "    com1.add('staff111')\n",
    "    com1.remove('staff11')\n",
    "    print(com1.staff_list)\n",
    "\n",
    "    com2 = Company('com2')\n",
    "    com2.add('staff2')\n",
    "\n",
    "    com3 = Company('com3')\n",
    "    com3.add('staff3')\n",
    "\n",
    "# 默认值为可变类型 []，com2.staff_list 和 com3.staff_list 指向一块内存空间\n",
    "    print(com2.staff_list)  # ['staff2', 'staff3']\n",
    "    print(com3.staff_list)  # ['staff2', 'staff3']"
   ]
  }
 ],
 "metadata": {
  "interpreter": {
   "hash": "a84367e06d81b283738822b4c3545326a8c48bec7fd7a2bbea16776a67f04a11"
  },
  "kernelspec": {
   "display_name": "Python 3.8.12 ('d2l-zh')",
   "language": "python",
   "name": "python3"
  },
  "language_info": {
   "codemirror_mode": {
    "name": "ipython",
    "version": 3
   },
   "file_extension": ".py",
   "mimetype": "text/x-python",
   "name": "python",
   "nbconvert_exporter": "python",
   "pygments_lexer": "ipython3",
   "version": "3.8.12"
  },
  "orig_nbformat": 4
 },
 "nbformat": 4,
 "nbformat_minor": 2
}
