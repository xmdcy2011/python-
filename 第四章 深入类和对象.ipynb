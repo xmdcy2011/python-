{
 "cells": [
  {
   "cell_type": "markdown",
   "metadata": {},
   "source": [
    "# 鸭子类型和多态"
   ]
  },
  {
   "cell_type": "markdown",
   "metadata": {},
   "source": [
    "## 鸭子类型"
   ]
  },
  {
   "cell_type": "markdown",
   "metadata": {},
   "source": [
    "当看到一只鸟走起来像鸭子、游泳起来像鸭子、叫起来像鸭子，那么这只鸟可以被称为鸭子"
   ]
  },
  {
   "cell_type": "code",
   "execution_count": 6,
   "metadata": {},
   "outputs": [
    {
     "name": "stdout",
     "output_type": "stream",
     "text": [
      "I am a animal\n",
      "I am a cat\n",
      "I am a dog\n",
      "I am a duck\n"
     ]
    }
   ],
   "source": [
    "\"\"\"\n",
    "当看到一直鸟走起来像鸭子、游泳起来像鸭子、叫起来像鸭子，那么这只鸟就可以被称为鸭子。\n",
    "这句话看上去有趣，却不太容易理解。接下来用实例来说明。\n",
    "\"\"\"\n",
    "\n",
    "\n",
    "# ============ Demo1 start =============\n",
    "class Animal:\n",
    "    def say(self):\n",
    "        print(\"I am a animal\")\n",
    "\n",
    "class Cat(object):\n",
    "    def say(self):\n",
    "        Animal.say(self) # 调用方法\n",
    "        print(\"I am a cat\")\n",
    "        \n",
    "        \n",
    "class Dog(object):\n",
    "    def say(self):\n",
    "        print(\"I am a dog\")\n",
    "\n",
    "        \n",
    "class Duck(object):\n",
    "    def say(self):\n",
    "        print(\"I am a duck\")\n",
    "        \n",
    "# 类似java里面的接口和基类        \n",
    "animals = [Cat,Dog,Duck]\n",
    "for item in animals:\n",
    "    item().say()\n",
    "# ============ Demo1 end ==============="
   ]
  },
  {
   "cell_type": "code",
   "execution_count": null,
   "metadata": {},
   "outputs": [],
   "source": [
    "# ============ Java pseudocode contrast start =============\n",
    "\"\"\"\n",
    "在 Java中实现多态，需要子类继承父类并重写父类方法。并需要声明类型\n",
    "\"\"\"\n",
    "\n",
    "class Animal:\n",
    "    def say(self):\n",
    "        print(\"I am an animal\")\n",
    "        \n",
    "        \n",
    "class Dog(Animal):\n",
    "    def say(self):\n",
    "        print(\"I am an Doy\")\n",
    "        \n",
    "        \n",
    "Ainmal animal = Cat()\n",
    "animal.say()\n",
    "# ============ Java pseudocode contrast end ============="
   ]
  },
  {
   "cell_type": "code",
   "execution_count": 6,
   "metadata": {},
   "outputs": [
    {
     "name": "stdout",
     "output_type": "stream",
     "text": [
      "['i1', 'i2', 'i3', 'i4', 'i5', 'i6', 'i8', 'i7']\n",
      "[['i3', 'i4'], ('i5', 'i6'), {'i8', 'i7'}]\n"
     ]
    }
   ],
   "source": [
    "li1 = ['i1', 'i2']\n",
    "li2 = ['i3', 'i4']\n",
    "\n",
    "tu = ('i5', 'i6')\n",
    "s1 = set()\n",
    "s1.add('i7')\n",
    "s1.add('i8')\n",
    "\n",
    "# 转变观念，传入的不单单是list，甚至自己实现 iterable 对象\n",
    "li1.extend(li2)     # iterable\n",
    "li1.extend(tu)\n",
    "li1.extend(s1)\n",
    "print(li1)\n",
    "\n",
    "li3 = []\n",
    "li3.append(li2)\n",
    "li3.append(tu)\n",
    "li3.append(s1)\n",
    "print(li3)"
   ]
  },
  {
   "cell_type": "code",
   "execution_count": null,
   "metadata": {},
   "outputs": [],
   "source": [
    "# ============== Demo2 start ===================\n",
    "class Cat(object):\n",
    "    def say(self):\n",
    "        print(\"I am a cat\")\n",
    "        \n",
    "        \n",
    "class Dog(object):\n",
    "    def say(self):\n",
    "        print(\"I am a dog\")\n",
    "\n",
    "        \n",
    "class Duck(object):\n",
    "    def say(self):\n",
    "        print(\"I am a duck\")\n",
    "        \n",
    "        \n",
    "animal_list = [Cat, Dog, Duck]\n",
    "for animal in animal_list:\n",
    "    animal().say()  \n",
    "# ============== Demo2 end ==================="
   ]
  },
  {
   "cell_type": "code",
   "execution_count": 12,
   "metadata": {},
   "outputs": [],
   "source": [
    "\"\"\"\n",
    "有内感觉了吗，反正我看到这，感触较深。嘎嘎嘎.....\n",
    "老师又来了个例子。\n",
    "\"\"\"\n",
    "\n",
    "\n",
    "# ============== Demo3 start ====================\n",
    "a = [\"bobby1\", \"bobby2\"]\n",
    "name_tuple = (\"bobby3\", \"bobby4\")\n",
    "name_set = set()\n",
    "name_set.add(\"bobby5\")\n",
    "name_set.add(\"bobby6\")\n",
    "name_list = [\"bobby7\", \"bobby8\"]\n",
    "a.extend(name_tuple)\n",
    "a.extend(name_list)\n",
    "a.extend(name_set)\n",
    "# =============== Demo3 end ======================\n",
    "\n",
    "\"\"\"\n",
    "在 Demo3 中不知你是否发现除了列表本身，元组和集合对象都可以传入列表对象的\n",
    "extend()方法。其实是extend()是接收一个可迭代对象，也就是前面章节所提到的\n",
    "迭代类型，那么好玩的就来了。\n",
    "\"\"\""
   ]
  },
  {
   "cell_type": "code",
   "execution_count": null,
   "metadata": {},
   "outputs": [],
   "source": [
    "# =============== Demo4 start =====================\n",
    "class Dog(object):\n",
    "    def say(self):\n",
    "        print(\"I am a dog\")\n",
    "        \n",
    "    def __getitem__(self):\n",
    "        print(\"loop!!!!!!!!\")\n",
    "\n",
    "a = [\"bobby1\", \"bobby2\"]\n",
    "dog = Dog()\n",
    "# name_tuple = (\"bobby3\", \"bobby4\")\n",
    "# name_set = set()\n",
    "# name_set.add(\"bobby5\")\n",
    "# name_set.add(\"bobby6\")\n",
    "# name_list = [\"bobby7\", \"bobby8\"]\n",
    "# a.extend(name_tuple)\n",
    "# a.extend(name_list)\n",
    "a.extend(dog)\n",
    "\n",
    "\"\"\"\n",
    "结果：\n",
    "loop!!!!!!!!\n",
    "loop!!!!!!!!\n",
    "loop!!!!!!!!\n",
    "loop!!!!!!!!\n",
    "loop!!!!!!!!\n",
    "loop!!!!!!!!\n",
    "loop!!!!!!!!\n",
    "loop!!!!!!!!\n",
    "loop!!!!!!!!\n",
    "....\n",
    "\"\"\"\n",
    "# =============== Demo4 end =======================\n",
    "\n",
    "\n",
    "\"\"\"\n",
    "在 Demo5 中程序陷入了死循环，传入一个Dog对象也没有报错，\n",
    "为什么？因为魔法函数，前面章节提到的__getitem__()是的对象\n",
    "变成了可迭代对象，因此传入extend中，方法一直运行，知道抛出异常，\n",
    "但是示例中是不会抛出异常的，因此会陷入死循环。\n",
    "\"\"\""
   ]
  },
  {
   "cell_type": "markdown",
   "metadata": {},
   "source": [
    "+ 实现多态只要定义了相同方法即可\n",
    "+ 魔法函数充分利用了鸭子类型的特性，只要把函数塞进类型中即可"
   ]
  },
  {
   "cell_type": "markdown",
   "metadata": {},
   "source": [
    "# 抽象基类(abc模块)"
   ]
  },
  {
   "cell_type": "markdown",
   "metadata": {},
   "source": [
    "## 抽象基类"
   ]
  },
  {
   "cell_type": "markdown",
   "metadata": {},
   "source": [
    "+ 抽象基类无法实例化\n",
    "+ 变量没有类型限制，可以指向任何类型\n",
    "+ 抽象基类和魔法函数构成了python的基础，即协议\n",
    "\n",
    "在抽象基类定义了抽象方法，继承了抽象基类的类，必须实现这些方法\n",
    "\n",
    "abc -> abstract base class\n",
    "+ 抽象基类相当于Java中的接口，Java无法实现多继承，\n",
    "但可以继承多个接口，接口是不可以实例化的。所以说，\n",
    "Python中的抽象基类也是不可以实例化的。Python是\n",
    "动态语言，是没有变量类型的。实际上，变量只是一个符\n",
    "号而已，它是可以指向任意类型的对象。动态语言不需要\n",
    "指定类型，所以就少了一个编译时检查错误的环境，只有运\n",
    "行时才知道错误。\n",
    "+ 与Java最大的一个区别就是，在定义一个类的时候，是不\n",
    "需要去继承一个指定类型的。而要知道Python的一个类是\n",
    "属于哪个类型的，是去看实现了那些魔法函数，魔法函数赋予\n",
    "了类的一些特性。在实现了某个魔法函数之后，使得对象变成了\n",
    "一个指定的类型，这种方法，在Python中可以说是一种协议。\n",
    "在写代码是要尽量遵守这种协议，这样写出来的代码，才是\n",
    "足够Python的一种代码。"
   ]
  },
  {
   "cell_type": "markdown",
   "metadata": {},
   "source": [
    "场景一：想判断某个对象的类型"
   ]
  },
  {
   "cell_type": "code",
   "execution_count": 7,
   "metadata": {},
   "outputs": [
    {
     "name": "stdout",
     "output_type": "stream",
     "text": [
      "True\n",
      "True\n"
     ]
    }
   ],
   "source": [
    "# 检查某个类是否有某种方法\n",
    "class Company:\n",
    "    def __init__(self, name):\n",
    "        self.name = name\n",
    "\n",
    "    def __len__(self):\n",
    "        return len(self.name)\n",
    "\n",
    "\n",
    "company = Company('Linda Process Ltd.')\n",
    "print(hasattr(company, '__len__'))\n",
    "\n",
    "from collections.abc import Sized\n",
    "print(isinstance(company, Sized))"
   ]
  },
  {
   "cell_type": "markdown",
   "metadata": {},
   "source": [
    "场景二：强制子类必须实现某些方法"
   ]
  },
  {
   "cell_type": "code",
   "execution_count": 9,
   "metadata": {},
   "outputs": [
    {
     "ename": "TypeError",
     "evalue": "Can't instantiate abstract class MemoryCache with abstract methods get, set",
     "output_type": "error",
     "traceback": [
      "\u001b[0;31m---------------------------------------------------------------------------\u001b[0m",
      "\u001b[0;31mTypeError\u001b[0m                                 Traceback (most recent call last)",
      "\u001b[1;32m/deep-learning/python高级/第四章 深入类和对象.ipynb Cell 13'\u001b[0m in \u001b[0;36m<module>\u001b[0;34m\u001b[0m\n\u001b[1;32m     <a href='vscode-notebook-cell:/deep-learning/python%E9%AB%98%E7%BA%A7/%E7%AC%AC%E5%9B%9B%E7%AB%A0%20%E6%B7%B1%E5%85%A5%E7%B1%BB%E5%92%8C%E5%AF%B9%E8%B1%A1.ipynb#ch0000017?line=13'>14</a>\u001b[0m \u001b[39mclass\u001b[39;00m \u001b[39mMemoryCache\u001b[39;00m(CacheBase):\n\u001b[1;32m     <a href='vscode-notebook-cell:/deep-learning/python%E9%AB%98%E7%BA%A7/%E7%AC%AC%E5%9B%9B%E7%AB%A0%20%E6%B7%B1%E5%85%A5%E7%B1%BB%E5%92%8C%E5%AF%B9%E8%B1%A1.ipynb#ch0000017?line=14'>15</a>\u001b[0m     \u001b[39mpass\u001b[39;00m\n\u001b[0;32m---> <a href='vscode-notebook-cell:/deep-learning/python%E9%AB%98%E7%BA%A7/%E7%AC%AC%E5%9B%9B%E7%AB%A0%20%E6%B7%B1%E5%85%A5%E7%B1%BB%E5%92%8C%E5%AF%B9%E8%B1%A1.ipynb#ch0000017?line=16'>17</a>\u001b[0m m \u001b[39m=\u001b[39m MemoryCache()\n",
      "\u001b[0;31mTypeError\u001b[0m: Can't instantiate abstract class MemoryCache with abstract methods get, set"
     ]
    }
   ],
   "source": [
    "import abc\n",
    "\n",
    "class CacheBase(metaclass=abc.ABCMeta):\n",
    "\n",
    "    @abc.abstractmethod\n",
    "    def get(self, key):\n",
    "        pass\n",
    "\n",
    "    @abc.abstractmethod\n",
    "    def set(self, key, value):\n",
    "        pass\n",
    "\n",
    "\n",
    "class MemoryCache(CacheBase):\n",
    "    pass\n",
    "\n",
    "m = MemoryCache()"
   ]
  },
  {
   "cell_type": "markdown",
   "metadata": {},
   "source": [
    "**注意：抽象基类容易设计过度，多继承推荐使用Mixin**"
   ]
  },
  {
   "cell_type": "markdown",
   "metadata": {},
   "source": [
    "# isinstance 和 type 的区别"
   ]
  },
  {
   "cell_type": "markdown",
   "metadata": {},
   "source": [
    "+ isinstance 会去查找继承链\n",
    "+ type 只判断变量的内存地址"
   ]
  },
  {
   "cell_type": "code",
   "execution_count": 10,
   "metadata": {},
   "outputs": [
    {
     "name": "stdout",
     "output_type": "stream",
     "text": [
      "True\n",
      "True\n",
      "True\n",
      "False\n"
     ]
    }
   ],
   "source": [
    "class A:\n",
    "    pass\n",
    "\n",
    "class B(A):\n",
    "    pass\n",
    "\n",
    "b = B()\n",
    "print(isinstance(b, B))\n",
    "print(isinstance(b, A))\n",
    "\n",
    "# is 判断 id 的意思\n",
    "print(type(b) is B)\n",
    "print(type(b) is A)     # False"
   ]
  },
  {
   "cell_type": "markdown",
   "metadata": {},
   "source": [
    "# 类变量与实例变量"
   ]
  },
  {
   "cell_type": "markdown",
   "metadata": {},
   "source": [
    "+ 类变量定义与使用\n",
    "+ 实例变量定义与使用\n",
    "+ 类变量是所有实例变量共享"
   ]
  },
  {
   "cell_type": "code",
   "execution_count": 8,
   "metadata": {},
   "outputs": [
    {
     "name": "stdout",
     "output_type": "stream",
     "text": [
      "2 3 1\n",
      "111 100 111\n",
      "{'x': 2, 'y': 3, 'aa': 100}\n",
      "{'__module__': '__main__', 'aa': 111, '__init__': <function A.__init__ at 0x7fc821e28e50>, '__dict__': <attribute '__dict__' of 'A' objects>, '__weakref__': <attribute '__weakref__' of 'A' objects>, '__doc__': None}\n"
     ]
    }
   ],
   "source": [
    "class A:\n",
    "    aa = 1\n",
    "\n",
    "    def __init__(self, x, y):\n",
    "        self.x = x\n",
    "        self.y = y\n",
    "\n",
    "\n",
    "a = A(2, 3)\n",
    "print(a.x, a.y, A.aa)\n",
    "\n",
    "A.aa = 111\n",
    "a.aa = 100  # 新建一个a的属性aa， 100赋值给该aa\n",
    "b = A(0,0)\n",
    "print(A.aa, a.aa, b.aa)\n",
    "print(a.__dict__)\n",
    "print(A.__dict__)"
   ]
  },
  {
   "cell_type": "markdown",
   "metadata": {},
   "source": [
    "# 类属性和实例属性以及查找顺序"
   ]
  },
  {
   "cell_type": "markdown",
   "metadata": {},
   "source": [
    "## 类属性和实例属性"
   ]
  },
  {
   "cell_type": "markdown",
   "metadata": {},
   "source": [
    "+ 类属性：定义在类中的变量和方法\n",
    "+ 实例属性：__init__中定义"
   ]
  },
  {
   "cell_type": "markdown",
   "metadata": {},
   "source": [
    "## 深度优先 DFS"
   ]
  },
  {
   "cell_type": "markdown",
   "metadata": {},
   "source": [
    "![mro1](img/mro1.jpg)"
   ]
  },
  {
   "cell_type": "markdown",
   "metadata": {},
   "source": [
    "+ 查找顺序为 A -> B -> D -> C -> E\n",
    "+ 此种场景深度优先较为合适"
   ]
  },
  {
   "cell_type": "markdown",
   "metadata": {},
   "source": [
    "![mro2](img/mro2.jpg)"
   ]
  },
  {
   "cell_type": "markdown",
   "metadata": {},
   "source": [
    "+ 查找顺序为 A -> B -> D -> C\n",
    "+ 此种场景 当C中重载了D中某个方法，该查找顺序就不合适"
   ]
  },
  {
   "cell_type": "markdown",
   "metadata": {},
   "source": [
    "## 广度优先 BFS"
   ]
  },
  {
   "cell_type": "markdown",
   "metadata": {},
   "source": [
    "![mro2](img/mro2.jpg)"
   ]
  },
  {
   "cell_type": "markdown",
   "metadata": {},
   "source": [
    "+ 查找顺序为 A -> B -> C -> D\n",
    "+ 此种场景深度优先较为合适"
   ]
  },
  {
   "cell_type": "markdown",
   "metadata": {},
   "source": [
    "![mro1](img/mro1.jpg)"
   ]
  },
  {
   "cell_type": "markdown",
   "metadata": {},
   "source": [
    "+ 查找顺序为 A -> B -> C -> D -> E\n",
    "+ 此种场景 B继承D，B和D是一体的，D应该先于C"
   ]
  },
  {
   "cell_type": "markdown",
   "metadata": {},
   "source": [
    "## MRO C3 算法"
   ]
  },
  {
   "cell_type": "markdown",
   "metadata": {},
   "source": [
    "菱形功能继承D场景"
   ]
  },
  {
   "cell_type": "code",
   "execution_count": 15,
   "metadata": {},
   "outputs": [
    {
     "name": "stdout",
     "output_type": "stream",
     "text": [
      "(<class '__main__.A'>, <class '__main__.B'>, <class '__main__.C'>, <class '__main__.D'>, <class 'object'>)\n"
     ]
    }
   ],
   "source": [
    "class D:\n",
    "    pass\n",
    "\n",
    "class C(D):\n",
    "    pass\n",
    "\n",
    "class B(D):\n",
    "    pass\n",
    "\n",
    "class A(B, C):\n",
    "    pass\n",
    "\n",
    "print(A.__mro__)"
   ]
  },
  {
   "cell_type": "markdown",
   "metadata": {},
   "source": [
    "B、C 各自继承D、E场景"
   ]
  },
  {
   "cell_type": "code",
   "execution_count": 16,
   "metadata": {},
   "outputs": [
    {
     "name": "stdout",
     "output_type": "stream",
     "text": [
      "(<class '__main__.A'>, <class '__main__.B'>, <class '__main__.D'>, <class '__main__.C'>, <class '__main__.E'>, <class 'object'>)\n"
     ]
    }
   ],
   "source": [
    "class D:\n",
    "    pass\n",
    "\n",
    "class E:\n",
    "    pass\n",
    "\n",
    "class C(E):\n",
    "    pass\n",
    "\n",
    "class B(D):\n",
    "    pass\n",
    "\n",
    "class A(B, C):\n",
    "    pass\n",
    "\n",
    "print(A.__mro__)"
   ]
  },
  {
   "cell_type": "markdown",
   "metadata": {},
   "source": [
    "# 静态方法、类方法、对象方法以及参数"
   ]
  },
  {
   "cell_type": "markdown",
   "metadata": {},
   "source": [
    "+ 静态方法 @staticmethod\n",
    "+ 类方法 @classmethod\n",
    "+ 实例方法"
   ]
  },
  {
   "cell_type": "code",
   "execution_count": 17,
   "metadata": {},
   "outputs": [
    {
     "name": "stdout",
     "output_type": "stream",
     "text": [
      "2020/2/21\n",
      "2020/12/12\n",
      "2020/12/12\n"
     ]
    }
   ],
   "source": [
    "class Date:\n",
    "    def __init__(self, year, month, day):\n",
    "        self.year = year\n",
    "        self.month = month\n",
    "        self.day = day\n",
    "\n",
    "    def tomorrow(self):\n",
    "        self.day += 1\n",
    "\n",
    "    @staticmethod\n",
    "    def date_from_str(date_str):\n",
    "        year, month, day = tuple(date_str.split('-'))\n",
    "        return Date(int(year), int(month), int(day))\n",
    "\n",
    "    @classmethod\n",
    "    def date_from_string(cls, date_str):\n",
    "        year, month, day = tuple(date_str.split('-'))\n",
    "        return cls(int(year), int(month), int(day))\n",
    "\n",
    "    def __str__(self):\n",
    "        return '{year}/{month}/{day}'.format(year=self.year, month=self.month, day=self.day)\n",
    "\n",
    "\n",
    "if __name__ == '__main__':\n",
    "    new_day = Date(2020, 2, 20)\n",
    "    new_day.tomorrow()\n",
    "    print(new_day)\n",
    "\n",
    "    date_str = '2020-12-12'\n",
    "    print(Date.date_from_str(date_str))\n",
    "    print(Date.date_from_string(date_str))"
   ]
  },
  {
   "cell_type": "markdown",
   "metadata": {},
   "source": [
    "# 数据封装和私有属性"
   ]
  },
  {
   "cell_type": "markdown",
   "metadata": {},
   "source": [
    "定义类时双下划线的属性，为私有属性"
   ]
  },
  {
   "cell_type": "code",
   "execution_count": 22,
   "metadata": {},
   "outputs": [
    {
     "name": "stdout",
     "output_type": "stream",
     "text": [
      "18\n",
      "18\n"
     ]
    }
   ],
   "source": [
    "class User:\n",
    "    def __init__(self):\n",
    "        self.__age = 18\n",
    "\n",
    "    def get_age(self):\n",
    "        return self.__age\n",
    "\n",
    "if __name__ == '__main__':\n",
    "    user = User()\n",
    "    print(user.get_age())\n",
    "\n",
    "    # print(user.__age)\n",
    "\n",
    "    # _class__attr, 做了变形\n",
    "    print(user._User__age)"
   ]
  },
  {
   "cell_type": "markdown",
   "metadata": {},
   "source": [
    "# python对象的自省机制"
   ]
  },
  {
   "cell_type": "markdown",
   "metadata": {},
   "source": [
    "通过一定的机制查询对象的内部结构"
   ]
  },
  {
   "cell_type": "markdown",
   "metadata": {},
   "source": [
    "+ \\_\\_dict__\n",
    "+ dir()"
   ]
  },
  {
   "cell_type": "code",
   "execution_count": 2,
   "metadata": {},
   "outputs": [
    {
     "name": "stdout",
     "output_type": "stream",
     "text": [
      "{'school_name': 'school'}\n"
     ]
    },
    {
     "ename": "AttributeError",
     "evalue": "'Student' object has no attribute 'age'",
     "output_type": "error",
     "traceback": [
      "\u001b[0;31m---------------------------------------------------------------------------\u001b[0m",
      "\u001b[0;31mAttributeError\u001b[0m                            Traceback (most recent call last)",
      "\u001b[1;32m/deep-learning/python高级/第四章 深入类和对象.ipynb Cell 52'\u001b[0m in \u001b[0;36m<module>\u001b[0;34m\u001b[0m\n\u001b[1;32m     <a href='vscode-notebook-cell:/deep-learning/python%E9%AB%98%E7%BA%A7/%E7%AC%AC%E5%9B%9B%E7%AB%A0%20%E6%B7%B1%E5%85%A5%E7%B1%BB%E5%92%8C%E5%AF%B9%E8%B1%A1.ipynb#ch0000052?line=11'>12</a>\u001b[0m \u001b[39mprint\u001b[39m(stu\u001b[39m.\u001b[39m\u001b[39m__dict__\u001b[39m)\n\u001b[1;32m     <a href='vscode-notebook-cell:/deep-learning/python%E9%AB%98%E7%BA%A7/%E7%AC%AC%E5%9B%9B%E7%AB%A0%20%E6%B7%B1%E5%85%A5%E7%B1%BB%E5%92%8C%E5%AF%B9%E8%B1%A1.ipynb#ch0000052?line=12'>13</a>\u001b[0m \u001b[39m# stu.age = 18\u001b[39;00m\n\u001b[0;32m---> <a href='vscode-notebook-cell:/deep-learning/python%E9%AB%98%E7%BA%A7/%E7%AC%AC%E5%9B%9B%E7%AB%A0%20%E6%B7%B1%E5%85%A5%E7%B1%BB%E5%92%8C%E5%AF%B9%E8%B1%A1.ipynb#ch0000052?line=13'>14</a>\u001b[0m \u001b[39mprint\u001b[39m(stu\u001b[39m.\u001b[39;49mage)\n\u001b[1;32m     <a href='vscode-notebook-cell:/deep-learning/python%E9%AB%98%E7%BA%A7/%E7%AC%AC%E5%9B%9B%E7%AB%A0%20%E6%B7%B1%E5%85%A5%E7%B1%BB%E5%92%8C%E5%AF%B9%E8%B1%A1.ipynb#ch0000052?line=15'>16</a>\u001b[0m \u001b[39mprint\u001b[39m(User\u001b[39m.\u001b[39m\u001b[39m__dict__\u001b[39m)\n\u001b[1;32m     <a href='vscode-notebook-cell:/deep-learning/python%E9%AB%98%E7%BA%A7/%E7%AC%AC%E5%9B%9B%E7%AB%A0%20%E6%B7%B1%E5%85%A5%E7%B1%BB%E5%92%8C%E5%AF%B9%E8%B1%A1.ipynb#ch0000052?line=17'>18</a>\u001b[0m \u001b[39mprint\u001b[39m(\u001b[39mdir\u001b[39m(stu))\n",
      "\u001b[0;31mAttributeError\u001b[0m: 'Student' object has no attribute 'age'"
     ]
    }
   ],
   "source": [
    "class User:\n",
    "    name = 'user'\n",
    "\n",
    "class Student(User):\n",
    "    def __init__(self):\n",
    "        self.school_name = 'school'\n",
    "\n",
    "if __name__ == '__main__':\n",
    "    stu = Student()\n",
    "\n",
    "    # 通过__dict__ 查询属性, C语言实现，经过优化，较快\n",
    "    print(stu.__dict__)\n",
    "    # stu.age = 18\n",
    "    print(stu.age)\n",
    "\n",
    "    print(User.__dict__)\n",
    "\n",
    "    # 功能更强大 有些类没有__dict__\n",
    "    print(dir(stu))\n",
    "\n",
    "    a = [1,2]\n",
    "    print(dir(a))"
   ]
  },
  {
   "cell_type": "markdown",
   "metadata": {},
   "source": [
    "# super真的是调用父类吗"
   ]
  },
  {
   "cell_type": "code",
   "execution_count": null,
   "metadata": {},
   "outputs": [],
   "source": [
    "\"\"\"\n",
    "super函数并没有那么简单...\n",
    "\"\"\"\n",
    "\n",
    "class A:\n",
    "    def __init__(self):\n",
    "        print(\"A\")\n",
    "        \n",
    "        \n",
    "class B(A):\n",
    "    def __init__(self):\n",
    "        print(\"B\")\n",
    "        # super(B, self).__init__()  # python2\n",
    "        super().__init__()\n",
    "        \n",
    "\n",
    "class C(A):\n",
    "    def __init__(self):\n",
    "        print(\"C\")\n",
    "        super().__init__()\n",
    "        \n",
    "        \n",
    "class D(B, C):\n",
    "    def __init__(self):\n",
    "        print(\"D\")\n",
    "        super(D, self).__init__()\n",
    "        \n",
    "        \n",
    "# 既然我们重写了B的构造函数，为什么还要去调用super？\n",
    "\"\"\"\n",
    "为了能够重用父类的一些方法，避免编写重复的逻辑\n",
    "\"\"\"\n",
    "\n",
    "# super到底执行顺序什么样？\n",
    "\"\"\"\n",
    "super并不是仅仅调用父类方法....\n",
    "\"\"\"\n",
    "if __name__ == \"__main__\":\n",
    "    d = D()\n",
    "    \"\"\"\n",
    "    直观结果：\n",
    "    D\n",
    "    B\n",
    "    A\n",
    "    \"\"\"\n",
    "    \n",
    "    \"\"\"\n",
    "    实际结果：\n",
    "    D\n",
    "    B\n",
    "    C\n",
    "    A\n",
    "    \"\"\"\n",
    "    \n",
    "    \n",
    "# 所以super的查找顺序是根据mro顺序来的\n",
    "    print(D.__mro__)"
   ]
  },
  {
   "cell_type": "markdown",
   "metadata": {},
   "source": [
    "# Mixin模式"
   ]
  },
  {
   "cell_type": "markdown",
   "metadata": {},
   "source": [
    "+ Mixin功能单一\n",
    "+ 不和基类关联，可以和任意基类组合，基类可以不和mixin关联就能初始化\n",
    "+ 在mixin中不要使用super这种用法"
   ]
  },
  {
   "cell_type": "markdown",
   "metadata": {},
   "source": [
    "# Python中的with语句"
   ]
  },
  {
   "cell_type": "code",
   "execution_count": null,
   "metadata": {},
   "outputs": [],
   "source": [
    "\"\"\"\n",
    "try expect finally 的用法\n",
    "\"\"\"\n",
    "\n",
    "# ============== Demo1 start ====================\n",
    "try:\n",
    "    print(\"code started\")\n",
    "\traise KeyError\n",
    "except KeyError as e:\n",
    "    print(\"key error\")\n",
    "else:  # 没有异常再执行\n",
    "    print(\"other code\")\n",
    "finally:\n",
    "    print(\"finally\")  # 不管怎么样该行代码都会运行，用于关闭文件对象等\n",
    "# ============== Demo1 end ====================="
   ]
  },
  {
   "cell_type": "code",
   "execution_count": null,
   "metadata": {},
   "outputs": [],
   "source": [
    "# ================== Demo2 start ========================\n",
    "def exe_try():\n",
    "    try:\n",
    "        print(\"code start\")\n",
    "        raise KeyError\n",
    "        return 1\n",
    "    except KeyError as e:\n",
    "        print(\"Key error\")\n",
    "        return 2\n",
    "    else:\n",
    "        print(\"other error\")\n",
    "        return 3\n",
    "    finally:\n",
    "        print(\"finally\")\n",
    "        return 4\n",
    "    \n",
    "    \n",
    "if __name__ == \"__main__\":\n",
    "    result = exe_try()\n",
    "    print(result)\n",
    "    \n",
    "\"\"\"\n",
    "result 的结果会是什么呢？\n",
    "答案是： 4\n",
    "那么注释 return 4\n",
    "结果又是什么呢？\n",
    "答案是： 2\n",
    "\n",
    "因为每次执行到return语句时，\n",
    "其值都会压入栈中，最终去栈顶的值。\n",
    "\"\"\"\n",
    "# ================== Demo2 end =========================="
   ]
  },
  {
   "cell_type": "markdown",
   "metadata": {},
   "source": [
    "上下文管理协议"
   ]
  },
  {
   "cell_type": "code",
   "execution_count": null,
   "metadata": {},
   "outputs": [],
   "source": [
    "\"\"\"\n",
    "基于：\n",
    "__enter__(self)\n",
    "__exit__(self, exc_type, exc_val, exc_tb)\n",
    "\"\"\"\n",
    "\n",
    "\n",
    "class Sample:\n",
    "    def __enter__(self):\n",
    "        # 获取资源\n",
    "        print(\"enter\")\n",
    "        return self\n",
    "    \n",
    "    def __exit__(self, exc_type, exc_val, exc_tb):\n",
    "        # 释放资源\n",
    "        print(\"exit\")\n",
    "        \n",
    "\tdef do_something(self):\n",
    "        print(\"doing something\")\n",
    "        \n",
    "        \n",
    "with Sample() as sample:\n",
    "    sample.do_something()"
   ]
  },
  {
   "cell_type": "markdown",
   "metadata": {},
   "source": [
    "#  contextlib实现上下文管理器"
   ]
  },
  {
   "cell_type": "code",
   "execution_count": 13,
   "metadata": {},
   "outputs": [
    {
     "name": "stdout",
     "output_type": "stream",
     "text": [
      "file open\n",
      "file processing\n",
      "file end\n"
     ]
    },
    {
     "data": {
      "text/plain": [
       "'\\n执行结果：\\nfile open\\nfile processing\\nfile end\\n'"
      ]
     },
     "execution_count": 13,
     "metadata": {},
     "output_type": "execute_result"
    }
   ],
   "source": [
    "import contextlib\n",
    "\n",
    "@contextlib.contextmanager\n",
    "def file_open(file_name):\n",
    "    print(\"file open\")\n",
    "    yield {}\n",
    "    print(\"file end\")\n",
    "    \n",
    "    \n",
    "with file_open(\"bobby.txt\") as f_opened:\n",
    "    print(\"file processing\")"
   ]
  }
 ],
 "metadata": {
  "interpreter": {
   "hash": "a84367e06d81b283738822b4c3545326a8c48bec7fd7a2bbea16776a67f04a11"
  },
  "kernelspec": {
   "display_name": "Python 3.8.12 ('d2l-zh')",
   "language": "python",
   "name": "python3"
  },
  "language_info": {
   "codemirror_mode": {
    "name": "ipython",
    "version": 3
   },
   "file_extension": ".py",
   "mimetype": "text/x-python",
   "name": "python",
   "nbconvert_exporter": "python",
   "pygments_lexer": "ipython3",
   "version": "3.8.12"
  },
  "orig_nbformat": 4
 },
 "nbformat": 4,
 "nbformat_minor": 2
}
