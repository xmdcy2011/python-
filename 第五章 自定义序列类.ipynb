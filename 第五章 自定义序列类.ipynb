{
 "cells": [
  {
   "cell_type": "markdown",
   "metadata": {},
   "source": [
    "# python中的序列分类"
   ]
  },
  {
   "cell_type": "markdown",
   "metadata": {},
   "source": [
    "序列是 python 中重要的协议"
   ]
  },
  {
   "cell_type": "markdown",
   "metadata": {},
   "source": [
    "按照元素类型是否相同\n",
    "\n",
    "+ 容器序列：list、tuple、deque\n",
    "+ 扁平序列：str、bytes、bytearray、array.array"
   ]
  },
  {
   "cell_type": "markdown",
   "metadata": {},
   "source": [
    "按照元素是否可变\n",
    "\n",
    "+ 可变类型：list、deque、bytearray、array.array\n",
    "+ 不可变：str、tuple、bytes"
   ]
  },
  {
   "cell_type": "code",
   "execution_count": 3,
   "metadata": {},
   "outputs": [
    {
     "name": "stdout",
     "output_type": "stream",
     "text": [
      "array('i', [100])\n"
     ]
    }
   ],
   "source": [
    "# 元素类型任意\n",
    "my_list = list()\n",
    "my_list.append(100)\n",
    "my_list.append(True)\n",
    "\n",
    "# 指定元素类型\n",
    "import array\n",
    "my_array = array.array('i')\n",
    "my_array.append(100)\n",
    "# 初始化数组需要整型，附加字符串抛异常\n",
    "# my_array.append('abc')\n",
    "print(my_array)"
   ]
  },
  {
   "cell_type": "markdown",
   "metadata": {},
   "source": [
    "# 序列的abc继承关系"
   ]
  },
  {
   "cell_type": "markdown",
   "metadata": {},
   "source": [
    "python 中内置的 collections.abc 抽象基类，可以帮助我们理解数据类型实现细节\n",
    "\n",
    "python 是基于协议的语言，结合鸭子类型和魔法函数，就可以达到实现某种类型\n",
    "\n",
    "from collections.abc import *\n",
    "\n",
    "+ Iterable: \\_\\_iter__\n",
    "+ Reversible: \\_\\_reversed__\n",
    "+ Sized: \\_\\_len__\n",
    "+ Container: \\_\\_contains__\n",
    "+ Collection: Sized, Iterable, Container\n",
    "+ Sequence: \\_\\_getitem__, Reversible, Collection\n",
    "+ MutableSequence: \\_\\_setitem__, \\_\\_delitem__, Sequence\n",
    "\n",
    "不同魔法函数的组合，构建不同的类型\n",
    "\n",
    "\\_\\_all__ = [\"Awaitable\", \"Coroutine\",\n",
    "           \"AsyncIterable\", \"AsyncIterator\", \"AsyncGenerator\",\n",
    "           \"Hashable\", \"Iterable\", \"Iterator\", \"Generator\", \"Reversible\",\n",
    "           \"Sized\", \"Container\", \"Callable\", \"Collection\",\n",
    "           \"Set\", \"MutableSet\",\n",
    "           \"Mapping\", \"MutableMapping\",\n",
    "           \"MappingView\", \"KeysView\", \"ItemsView\", \"ValuesView\",\n",
    "           \"Sequence\", \"MutableSequence\",\n",
    "           \"ByteString\",\n",
    "           ]\n",
    "\n",
    "\n"
   ]
  },
  {
   "cell_type": "code",
   "execution_count": null,
   "metadata": {},
   "outputs": [],
   "source": [
    "class Collection(Sized, Iterable, Container):\n",
    "\n",
    "    __slots__ = ()\n",
    "\n",
    "    @classmethod\n",
    "    def __subclasshook__(cls, C):\n",
    "        if cls is Collection:\n",
    "            return _check_methods(C,  \"__len__\", \"__iter__\", \"__contains__\")\n",
    "        return NotImplemented\n",
    "\n",
    "    \n",
    "class Reversible(Iterable):\n",
    "\n",
    "    __slots__ = ()\n",
    "\n",
    "    @abstractmethod\n",
    "    def __reversed__(self):\n",
    "        while False:\n",
    "            yield None\n",
    "\n",
    "    @classmethod\n",
    "    def __subclasshook__(cls, C):\n",
    "        if cls is Reversible:\n",
    "            return _check_methods(C, \"__reversed__\", \"__iter__\")\n",
    "        return NotImplemented\n",
    "    \n",
    "    \n",
    "class Sequence(Reversible, Collection):\n",
    "\n",
    "    \"\"\"All the operations on a read-only sequence.\n",
    "\n",
    "    Concrete subclasses must override __new__ or __init__,\n",
    "    __getitem__, and __len__.\n",
    "    \"\"\"\n",
    "\n",
    "    __slots__ = ()\n",
    "\n",
    "    @abstractmethod\n",
    "    def __getitem__(self, index):\n",
    "        raise IndexError\n",
    "\n",
    "    def __iter__(self):\n",
    "        i = 0\n",
    "        try:\n",
    "            while True:\n",
    "                v = self[i]\n",
    "                yield v\n",
    "                i += 1\n",
    "        except IndexError:\n",
    "            return\n",
    "\n",
    "    def __contains__(self, value):\n",
    "        for v in self:\n",
    "            if v is value or v == value:\n",
    "                return True\n",
    "        return False\n",
    "\n",
    "    def __reversed__(self):\n",
    "        for i in reversed(range(len(self))):\n",
    "            yield self[i]\n",
    "\n",
    "    def index(self, value, start=0, stop=None):\n",
    "        '''S.index(value, [start, [stop]]) -> integer -- return first index of value.\n",
    "           Raises ValueError if the value is not present.\n",
    "\n",
    "           Supporting start and stop arguments is optional, but\n",
    "           recommended.\n",
    "        '''\n",
    "        if start is not None and start < 0:\n",
    "            start = max(len(self) + start, 0)\n",
    "        if stop is not None and stop < 0:\n",
    "            stop += len(self)\n",
    "\n",
    "        i = start\n",
    "        while stop is None or i < stop:\n",
    "            try:\n",
    "                v = self[i]\n",
    "                if v is value or v == value:\n",
    "                    return i\n",
    "            except IndexError:\n",
    "                break\n",
    "            i += 1\n",
    "        raise ValueError\n",
    "\n",
    "    def count(self, value):\n",
    "        'S.count(value) -> integer -- return number of occurrences of value'\n",
    "        return sum(1 for v in self if v is value or v == value)\n",
    "    \n",
    "    \n",
    " class MutableSequence(Sequence):\n",
    "\n",
    "    __slots__ = ()\n",
    "\n",
    "    \"\"\"All the operations on a read-write sequence.\n",
    "\n",
    "    Concrete subclasses must provide __new__ or __init__,\n",
    "    __getitem__, __setitem__, __delitem__, __len__, and insert().\n",
    "\n",
    "    \"\"\"\n",
    "\n",
    "    @abstractmethod\n",
    "    def __setitem__(self, index, value):\n",
    "        raise IndexError\n",
    "\n",
    "    @abstractmethod\n",
    "    def __delitem__(self, index):\n",
    "        raise IndexError\n",
    "\n",
    "    @abstractmethod\n",
    "    def insert(self, index, value):\n",
    "        'S.insert(index, value) -- insert value before index'\n",
    "        raise IndexError\n",
    "\n",
    "    def append(self, value):\n",
    "        'S.append(value) -- append value to the end of the sequence'\n",
    "        self.insert(len(self), value)\n",
    "\n",
    "    def clear(self):\n",
    "        'S.clear() -> None -- remove all items from S'\n",
    "        try:\n",
    "            while True:\n",
    "                self.pop()\n",
    "        except IndexError:\n",
    "            pass\n",
    "\n",
    "    def reverse(self):\n",
    "        'S.reverse() -- reverse *IN PLACE*'\n",
    "        n = len(self)\n",
    "        for i in range(n//2):\n",
    "            self[i], self[n-i-1] = self[n-i-1], self[i]\n",
    "\n",
    "    def extend(self, values):\n",
    "        'S.extend(iterable) -- extend sequence by appending elements from the iterable'\n",
    "        for v in values:\n",
    "            self.append(v)\n",
    "\n",
    "    def pop(self, index=-1):\n",
    "        '''S.pop([index]) -> item -- remove and return item at index (default last).\n",
    "           Raise IndexError if list is empty or index is out of range.\n",
    "        '''\n",
    "        v = self[index]\n",
    "        del self[index]\n",
    "        return v\n",
    "\n",
    "    def remove(self, value):\n",
    "        '''S.remove(value) -- remove first occurrence of value.\n",
    "           Raise ValueError if the value is not present.\n",
    "        '''\n",
    "        del self[self.index(value)]\n",
    "\n",
    "    def __iadd__(self, values):\n",
    "        self.extend(values)\n",
    "        return self   "
   ]
  },
  {
   "cell_type": "markdown",
   "metadata": {},
   "source": [
    "# 序列中+、+=和extend的区别"
   ]
  },
  {
   "cell_type": "markdown",
   "metadata": {},
   "source": [
    "+ 加号 + 会新生成对象，并且两边类型需要一致\n",
    "+ 加等 += 就地加，只需要可迭代就行\n",
    "+ append 附加单个元素，extend 扩展多个元素"
   ]
  },
  {
   "cell_type": "code",
   "execution_count": 1,
   "metadata": {},
   "outputs": [
    {
     "name": "stdout",
     "output_type": "stream",
     "text": [
      "type(l1): 140644346027392, and l1: [1, 2]\n",
      "type(l2): 140644343513344, and l2: [1, 2, 3, 4]\n",
      "type(l1): 140644346027392, and l1: [1, 2, '3', '4', '5', '6', 0, 1]\n",
      "[1, 2, 3, 4]\n",
      "[1, 2, 3, 4]\n",
      "[1, 2, 3, 4, 5, 6]\n"
     ]
    },
    {
     "ename": "TypeError",
     "evalue": "can only concatenate list (not \"tuple\") to list",
     "output_type": "error",
     "traceback": [
      "\u001b[0;31m---------------------------------------------------------------------------\u001b[0m",
      "\u001b[0;31mTypeError\u001b[0m                                 Traceback (most recent call last)",
      "\u001b[1;32m/deep-learning/python高级/第五章 自定义序列类.ipynb Cell 11'\u001b[0m in \u001b[0;36m<module>\u001b[0;34m\u001b[0m\n\u001b[1;32m     <a href='vscode-notebook-cell:/deep-learning/python%E9%AB%98%E7%BA%A7/%E7%AC%AC%E4%BA%94%E7%AB%A0%20%E8%87%AA%E5%AE%9A%E4%B9%89%E5%BA%8F%E5%88%97%E7%B1%BB.ipynb#ch0000009?line=23'>24</a>\u001b[0m a \u001b[39m+\u001b[39m\u001b[39m=\u001b[39m (\u001b[39m5\u001b[39m, \u001b[39m6\u001b[39m)  \u001b[39m# 不报错\u001b[39;00m\n\u001b[1;32m     <a href='vscode-notebook-cell:/deep-learning/python%E9%AB%98%E7%BA%A7/%E7%AC%AC%E4%BA%94%E7%AB%A0%20%E8%87%AA%E5%AE%9A%E4%B9%89%E5%BA%8F%E5%88%97%E7%B1%BB.ipynb#ch0000009?line=24'>25</a>\u001b[0m \u001b[39mprint\u001b[39m(a)\n\u001b[0;32m---> <a href='vscode-notebook-cell:/deep-learning/python%E9%AB%98%E7%BA%A7/%E7%AC%AC%E4%BA%94%E7%AB%A0%20%E8%87%AA%E5%AE%9A%E4%B9%89%E5%BA%8F%E5%88%97%E7%B1%BB.ipynb#ch0000009?line=25'>26</a>\u001b[0m c \u001b[39m=\u001b[39m a \u001b[39m+\u001b[39;49m (\u001b[39m7\u001b[39;49m, \u001b[39m8\u001b[39;49m)  \u001b[39m# 报错\u001b[39;00m\n\u001b[1;32m     <a href='vscode-notebook-cell:/deep-learning/python%E9%AB%98%E7%BA%A7/%E7%AC%AC%E4%BA%94%E7%AB%A0%20%E8%87%AA%E5%AE%9A%E4%B9%89%E5%BA%8F%E5%88%97%E7%B1%BB.ipynb#ch0000009?line=27'>28</a>\u001b[0m \u001b[39m\"\"\"\u001b[39;00m\n\u001b[1;32m     <a href='vscode-notebook-cell:/deep-learning/python%E9%AB%98%E7%BA%A7/%E7%AC%AC%E4%BA%94%E7%AB%A0%20%E8%87%AA%E5%AE%9A%E4%B9%89%E5%BA%8F%E5%88%97%E7%B1%BB.ipynb#ch0000009?line=28'>29</a>\u001b[0m \u001b[39m为什么会有这种差别，\u001b[39;00m\n\u001b[1;32m     <a href='vscode-notebook-cell:/deep-learning/python%E9%AB%98%E7%BA%A7/%E7%AC%AC%E4%BA%94%E7%AB%A0%20%E8%87%AA%E5%AE%9A%E4%B9%89%E5%BA%8F%E5%88%97%E7%B1%BB.ipynb#ch0000009?line=29'>30</a>\u001b[0m \u001b[39m实际上在 += 时，Python\u001b[39;00m\n\u001b[0;32m   (...)\u001b[0m\n\u001b[1;32m     <a href='vscode-notebook-cell:/deep-learning/python%E9%AB%98%E7%BA%A7/%E7%AC%AC%E4%BA%94%E7%AB%A0%20%E8%87%AA%E5%AE%9A%E4%B9%89%E5%BA%8F%E5%88%97%E7%B1%BB.ipynb#ch0000009?line=32'>33</a>\u001b[0m \u001b[39m+= 右边的值传入 list 的 extend方法。\u001b[39;00m\n\u001b[1;32m     <a href='vscode-notebook-cell:/deep-learning/python%E9%AB%98%E7%BA%A7/%E7%AC%AC%E4%BA%94%E7%AB%A0%20%E8%87%AA%E5%AE%9A%E4%B9%89%E5%BA%8F%E5%88%97%E7%B1%BB.ipynb#ch0000009?line=33'>34</a>\u001b[0m \u001b[39m\"\"\"\u001b[39;00m\n\u001b[1;32m     <a href='vscode-notebook-cell:/deep-learning/python%E9%AB%98%E7%BA%A7/%E7%AC%AC%E4%BA%94%E7%AB%A0%20%E8%87%AA%E5%AE%9A%E4%B9%89%E5%BA%8F%E5%88%97%E7%B1%BB.ipynb#ch0000009?line=35'>36</a>\u001b[0m \u001b[39m\"\"\"\u001b[39;00m\n\u001b[1;32m     <a href='vscode-notebook-cell:/deep-learning/python%E9%AB%98%E7%BA%A7/%E7%AC%AC%E4%BA%94%E7%AB%A0%20%E8%87%AA%E5%AE%9A%E4%B9%89%E5%BA%8F%E5%88%97%E7%B1%BB.ipynb#ch0000009?line=36'>37</a>\u001b[0m \u001b[39m注意append的方法与extend的方法\u001b[39;00m\n\u001b[1;32m     <a href='vscode-notebook-cell:/deep-learning/python%E9%AB%98%E7%BA%A7/%E7%AC%AC%E4%BA%94%E7%AB%A0%20%E8%87%AA%E5%AE%9A%E4%B9%89%E5%BA%8F%E5%88%97%E7%B1%BB.ipynb#ch0000009?line=37'>38</a>\u001b[0m \u001b[39mappend会将参数作为整个。extend会将\u001b[39;00m\n\u001b[1;32m     <a href='vscode-notebook-cell:/deep-learning/python%E9%AB%98%E7%BA%A7/%E7%AC%AC%E4%BA%94%E7%AB%A0%20%E8%87%AA%E5%AE%9A%E4%B9%89%E5%BA%8F%E5%88%97%E7%B1%BB.ipynb#ch0000009?line=38'>39</a>\u001b[0m \u001b[39m参数分开。\u001b[39;00m\n\u001b[1;32m     <a href='vscode-notebook-cell:/deep-learning/python%E9%AB%98%E7%BA%A7/%E7%AC%AC%E4%BA%94%E7%AB%A0%20%E8%87%AA%E5%AE%9A%E4%B9%89%E5%BA%8F%E5%88%97%E7%B1%BB.ipynb#ch0000009?line=39'>40</a>\u001b[0m \u001b[39m\"\"\"\u001b[39;00m\n",
      "\u001b[0;31mTypeError\u001b[0m: can only concatenate list (not \"tuple\") to list"
     ]
    }
   ],
   "source": [
    "# + 加新增\n",
    "l1 = [1, 2]\n",
    "l2 = l1 + [3, 4]\n",
    "print(\"type(l1): %d, and l1: %s\" % (id(l1), l1))\n",
    "print(\"type(l2): %d, and l2: %s\" % (id(l2), l2))\n",
    "\n",
    "# += 就地加\n",
    "l1 += ['3', '4']\n",
    "l1 += ('5', '6')\n",
    "l1 += range(2)\n",
    "print(\"type(l1): %d, and l1: %s\" % (id(l1), l1))\n",
    "\n",
    "\n",
    "# + 两边类型需相同\n",
    "# += 只需要可迭代的就行，__iadd__ 魔法函数实现\n",
    "\n",
    "\n",
    "a = [1, 2]\n",
    "c = a + [3, 4]\n",
    "print(c)\n",
    "\n",
    "a += [3, 4]\n",
    "print(a)\n",
    "a += (5, 6)  # 不报错\n",
    "print(a)\n",
    "c = a + (7, 8)  # 报错\n",
    "\n",
    "\"\"\"\n",
    "为什么会有这种差别，\n",
    "实际上在 += 时，Python\n",
    "实现的魔法函数是 __iadd__\n",
    "，调用这个魔法函数实际就是把\n",
    "+= 右边的值传入 list 的 extend方法。\n",
    "\"\"\"\n",
    "\n",
    "\"\"\"\n",
    "注意append的方法与extend的方法\n",
    "append会将参数作为整个。extend会将\n",
    "参数分开。\n",
    "\"\"\""
   ]
  },
  {
   "cell_type": "markdown",
   "metadata": {},
   "source": [
    "# 实现可切片的对象"
   ]
  },
  {
   "cell_type": "markdown",
   "metadata": {},
   "source": [
    "## 列表切片操作"
   ]
  },
  {
   "cell_type": "code",
   "execution_count": null,
   "metadata": {},
   "outputs": [],
   "source": [
    "'''\n",
    "模式 [start:end:step]\n",
    "\n",
    "第一个数字 start 表示切片开始位置，默认 0\n",
    "第二个数字 end 表示切片截止(但不包含)位置，默认列表长度\n",
    "第三个数字 step 表示切片的步骤，默认为 1\n",
    "\n",
    "当 start 为 0 时可以省略\n",
    "当 end 为列表长度时可以省略\n",
    "当 step 为 1 时可以省略，并且省略步长时可以同时省略最后一个冒号\n",
    "当 step 为负数时，表示反向切片，这时 start 应该比 end 的值要大才行\n",
    "'''\n",
    "\n",
    "a = [1, 2, 3]\n",
    "print(id(a))\n",
    "print(a[::])  # 返回新列表 包含原列表中所有元素\n",
    "print(a[::-1])  # 返回新列表 原列表的逆排序\n",
    "print(a[::2])  # 返回新列表 取偶数位\n",
    "print(a[1::2]) # 返回新列表 取奇数位\n",
    "print(a[0:2]) # 返回新列表 前开后闭区间\n",
    "print(a[0:4]) # 返回新列表 结束位置大于列表长度时候 从尾部截断\n",
    "print(a[100:]) # 返回新列表 切片位置大于列表长度 返回空列表\n",
    "\n",
    "# 返回新列表 在列表尾部插入新元素 必须是可迭代对象\n",
    "a[len(a):] = (99,)\n",
    "a[len(a):] = [99]\n",
    "print(a)\n",
    "\n",
    "# 返回新列表 在列表头部插入新元素 必须是可迭代对象\n",
    "a[:0] = [99]\n",
    "print(a)\n",
    "\n",
    "# 返回新列表 新增操作 在列表中间位置插入元素\n",
    "a[3:3] = [11,12]\n",
    "print(a)\n",
    "\n",
    "# 返回新列表 替换操作 0-2的位置替换长度相等的元素\n",
    "a[:3] = [4,5,6]\n",
    "print(a)\n",
    "\n",
    "# 返回新列表 替换操作 0-2的位置替换长度不相等的元素\n",
    "a[:3] = [4,5,6,7,8]\n",
    "print(a)\n",
    "\n",
    "# 返回新列表 替换操作 从3到最后的位置替换长度不相等的元素\n",
    "a[3:] = [4,5,6,7,8]\n",
    "print(a)\n",
    "\n",
    "# 间隔替换元素为0\n",
    "a[::2] = [0] * int(len(a)/2 + 0.5)\n",
    "print(a)\n",
    "\n",
    "#间隔替换元素\n",
    "a[::2] = ['a','b','c','d']\n",
    "print(a)\n",
    "\n",
    "# 删除前三个元素\n",
    "a[:3] = []\n",
    "print(a)\n",
    "\n",
    "# 删除前三个元素\n",
    "del a[:3]\n",
    "print(a)\n",
    "\n",
    "# 间隔删除元素\n",
    "del a[::2]\n",
    "print(a)"
   ]
  },
  {
   "cell_type": "markdown",
   "metadata": {},
   "source": [
    "## 自定义序列类\n",
    "\n",
    "参考 collections.abc 序列类 Sequence 所需的魔法函数"
   ]
  },
  {
   "cell_type": "code",
   "execution_count": 5,
   "metadata": {},
   "outputs": [
    {
     "name": "stdout",
     "output_type": "stream",
     "text": [
      "True\n",
      "1\n"
     ]
    }
   ],
   "source": [
    "import numbers\n",
    "\n",
    "class Group:\n",
    "    def __init__(self, group_name, company_name, staff):\n",
    "        self.group_name = group_name\n",
    "        self.company_name = company_name\n",
    "        self.staffs = staff\n",
    "\n",
    "    def __reversed__(self):\n",
    "        self.staffs.reverse()\n",
    "\n",
    "    def __getitem__(self, item):\n",
    "        cls = type(self)\n",
    "        if isinstance(item, slice):\n",
    "            return cls(group_name=self.group_name, company_name=self.company_name, staff=self.staffs[item])\n",
    "        elif isinstance(item, numbers.Integral):\n",
    "            return cls(group_name=self.group_name, company_name=self.company_name, staff=[self.staffs[item]])\n",
    "\n",
    "    def __len__(self):\n",
    "        return len(self.staffs)\n",
    "\n",
    "    def __iter__(self):\n",
    "        return iter(self.staffs)\n",
    "\n",
    "    def __contains__(self, item):\n",
    "        if item in self.staffs:\n",
    "            return True\n",
    "        else:\n",
    "            return False\n",
    "\n",
    "\n",
    "staffs = ['linda', 'alex', 'catherine', 'nash', 'curry']\n",
    "group = Group(group_name='group', company_name='company', staff=staffs)\n",
    "\n",
    "# 实现getitem后就可实现切片 直接返回list切片对象 如想返回其他对可定制getitem\n",
    "sub_group = group[0:1]\n",
    "# if in 语句会调用contains\n",
    "print('linda' in sub_group)\n",
    "# 先调用iter,如没实现调用getitem\n",
    "for item in sub_group:\n",
    "    print(item)\n",
    "print(len(sub_group))"
   ]
  },
  {
   "cell_type": "markdown",
   "metadata": {},
   "source": [
    "# bisect维护已排序序列"
   ]
  },
  {
   "cell_type": "markdown",
   "metadata": {},
   "source": [
    "+ bisect 维护一个升序的序列\n",
    "+ 内部二分查找实现，效率高"
   ]
  },
  {
   "cell_type": "code",
   "execution_count": 6,
   "metadata": {},
   "outputs": [
    {
     "name": "stdout",
     "output_type": "stream",
     "text": [
      "[2, 3, 6, 10]\n"
     ]
    }
   ],
   "source": [
    "import bisect\n",
    "\n",
    "# 处理已排序 序列 升序\n",
    "# 内部二分查找算法实现\n",
    "\n",
    "l1 = list()\n",
    "bisect.insort(l1, 10)\n",
    "bisect.insort(l1, 3)\n",
    "bisect.insort(l1, 2)\n",
    "bisect.insort(l1, 6)\n",
    "\n",
    "print(l1)   # [2, 3, 6, 10]"
   ]
  },
  {
   "cell_type": "markdown",
   "metadata": {},
   "source": [
    "# 什么时候我们不该用列表"
   ]
  },
  {
   "cell_type": "markdown",
   "metadata": {},
   "source": [
    "+ 比 list 更好的 python 内置数据结构\n",
    "+ array 数组 连续的内存空间，性能高\n",
    "+ deque 双向列表"
   ]
  },
  {
   "cell_type": "markdown",
   "metadata": {},
   "source": [
    "array 与 list 一个重要区别，array 只能存储指定的数据类型数据"
   ]
  },
  {
   "cell_type": "code",
   "execution_count": 7,
   "metadata": {},
   "outputs": [
    {
     "ename": "TypeError",
     "evalue": "an integer is required (got type str)",
     "output_type": "error",
     "traceback": [
      "\u001b[0;31m---------------------------------------------------------------------------\u001b[0m",
      "\u001b[0;31mTypeError\u001b[0m                                 Traceback (most recent call last)",
      "\u001b[1;32m/deep-learning/python高级/第五章 自定义序列类.ipynb Cell 22'\u001b[0m in \u001b[0;36m<module>\u001b[0;34m\u001b[0m\n\u001b[1;32m      <a href='vscode-notebook-cell:/deep-learning/python%E9%AB%98%E7%BA%A7/%E7%AC%AC%E4%BA%94%E7%AB%A0%20%E8%87%AA%E5%AE%9A%E4%B9%89%E5%BA%8F%E5%88%97%E7%B1%BB.ipynb#ch0000022?line=3'>4</a>\u001b[0m my_array \u001b[39m=\u001b[39m array\u001b[39m.\u001b[39marray(\u001b[39m'\u001b[39m\u001b[39mi\u001b[39m\u001b[39m'\u001b[39m)\n\u001b[1;32m      <a href='vscode-notebook-cell:/deep-learning/python%E9%AB%98%E7%BA%A7/%E7%AC%AC%E4%BA%94%E7%AB%A0%20%E8%87%AA%E5%AE%9A%E4%B9%89%E5%BA%8F%E5%88%97%E7%B1%BB.ipynb#ch0000022?line=4'>5</a>\u001b[0m my_array\u001b[39m.\u001b[39mappend(\u001b[39m100\u001b[39m)\n\u001b[0;32m----> <a href='vscode-notebook-cell:/deep-learning/python%E9%AB%98%E7%BA%A7/%E7%AC%AC%E4%BA%94%E7%AB%A0%20%E8%87%AA%E5%AE%9A%E4%B9%89%E5%BA%8F%E5%88%97%E7%B1%BB.ipynb#ch0000022?line=5'>6</a>\u001b[0m my_array\u001b[39m.\u001b[39;49mappend(\u001b[39m'\u001b[39;49m\u001b[39mabc\u001b[39;49m\u001b[39m'\u001b[39;49m)\n",
      "\u001b[0;31mTypeError\u001b[0m: an integer is required (got type str)"
     ]
    }
   ],
   "source": [
    "import array\n",
    "\n",
    "list\n",
    "my_array = array.array('i')\n",
    "my_array.append(100)\n",
    "my_array.append('abc')"
   ]
  },
  {
   "cell_type": "markdown",
   "metadata": {},
   "source": [
    "某些应用场景，除了 list 我们还有其他更好的选择"
   ]
  },
  {
   "cell_type": "markdown",
   "metadata": {},
   "source": [
    "# 列表推导式、生成器表达式和字典推导式"
   ]
  },
  {
   "cell_type": "markdown",
   "metadata": {},
   "source": [
    "## 列表推导式\n",
    "列表推导式，或列表生成式，通过一行代码生成列表"
   ]
  },
  {
   "cell_type": "code",
   "execution_count": 8,
   "metadata": {},
   "outputs": [
    {
     "name": "stdout",
     "output_type": "stream",
     "text": [
      "[1, 3, 5, 7, 9, 11, 13, 15, 17, 19]\n",
      "[1, 9, 25, 49, 81, 121, 169, 225, 289, 361]\n"
     ]
    }
   ],
   "source": [
    "# 提取出 1-20 之间的奇数\n",
    "odd_list = [i for i in range(21) if i % 2 == 1]\n",
    "print(odd_list)\n",
    "\n",
    "# 逻辑复杂的情况\n",
    "def handle_item(item):\n",
    "    return item * item\n",
    "\n",
    "odd_list = [handle_item(i) for i in range(21) if i % 2 == 1]\n",
    "print(odd_list)"
   ]
  },
  {
   "cell_type": "markdown",
   "metadata": {},
   "source": [
    "+ 列表生成式性能高于列表操作\n",
    "+ 逻辑过于复杂时，列表生成式可读性降低"
   ]
  },
  {
   "cell_type": "markdown",
   "metadata": {},
   "source": [
    "## 生成器表达式\n",
    "列表推导 [] -> ()"
   ]
  },
  {
   "cell_type": "code",
   "execution_count": 9,
   "metadata": {},
   "outputs": [
    {
     "name": "stdout",
     "output_type": "stream",
     "text": [
      "<class 'generator'>\n",
      "1\n",
      "3\n",
      "5\n",
      "7\n",
      "9\n",
      "11\n",
      "13\n",
      "15\n",
      "17\n",
      "19\n"
     ]
    }
   ],
   "source": [
    "my_gen = (i for i in range(21) if i % 2 == 1)\n",
    "print(type(my_gen))     # <class 'generator'>\n",
    "for i in my_gen:\n",
    "    print(i)"
   ]
  },
  {
   "cell_type": "markdown",
   "metadata": {},
   "source": [
    "## 字典推导式"
   ]
  },
  {
   "cell_type": "code",
   "execution_count": 10,
   "metadata": {},
   "outputs": [
    {
     "name": "stdout",
     "output_type": "stream",
     "text": [
      "{'value1': 'key1', 'value2': 'key2'}\n"
     ]
    }
   ],
   "source": [
    "d1 = {'key1': 'value1', 'key2': 'value2'}\n",
    "d2 = {v: k for (k, v) in d1.items()}\n",
    "print(d2)"
   ]
  },
  {
   "cell_type": "markdown",
   "metadata": {},
   "source": [
    "## 集合推导式"
   ]
  },
  {
   "cell_type": "code",
   "execution_count": null,
   "metadata": {},
   "outputs": [],
   "source": [
    "set1 = {v for v in d1.values()}\n",
    "print(set1)"
   ]
  }
 ],
 "metadata": {
  "interpreter": {
   "hash": "a84367e06d81b283738822b4c3545326a8c48bec7fd7a2bbea16776a67f04a11"
  },
  "kernelspec": {
   "display_name": "Python 3.8.12 ('d2l-zh')",
   "language": "python",
   "name": "python3"
  },
  "language_info": {
   "codemirror_mode": {
    "name": "ipython",
    "version": 3
   },
   "file_extension": ".py",
   "mimetype": "text/x-python",
   "name": "python",
   "nbconvert_exporter": "python",
   "pygments_lexer": "ipython3",
   "version": "3.8.12"
  },
  "orig_nbformat": 4
 },
 "nbformat": 4,
 "nbformat_minor": 2
}
