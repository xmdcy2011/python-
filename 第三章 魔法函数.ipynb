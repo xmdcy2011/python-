{
 "cells": [
  {
   "cell_type": "markdown",
   "metadata": {},
   "source": [
    "# 什么是魔法函数"
   ]
  },
  {
   "cell_type": "markdown",
   "metadata": {},
   "source": [
    "python 定义类时中，以双下划线开头，以双下划线结尾函数为魔法函数\n",
    "\n",
    "+ 魔法函数可以定义类的特性\n",
    "+ 魔法函数是解释器提供的功能\n",
    "+ 魔法函数只能使用 python 提供的魔法函数，不能自定义\n",
    "\n",
    "注意：在案例中，魔法函数既不是属于<class 'Company'>，也不是从<class 'object'>基继承过来。是一个独立的存在，往类里放入魔法函数之后，会增强类的一些类型。魔法函数不需要我们显示调用。Python会识别对象或自定义类的魔法函数，并隐式调用。"
   ]
  },
  {
   "cell_type": "code",
   "execution_count": 1,
   "metadata": {},
   "outputs": [
    {
     "name": "stdout",
     "output_type": "stream",
     "text": [
      "alex\n",
      "linda\n",
      "catherine\n",
      "alex\n",
      "linda\n",
      "catherine\n"
     ]
    }
   ],
   "source": [
    "class Company:\n",
    "    def __init__(self, employee_list):\n",
    "        self.employee = employee_list\n",
    "\n",
    "    def __getitem__(self, item):\n",
    "        '''索引运算，类似于 X[key]，X[i:j]'''\n",
    "        return self.employee[item]\n",
    "\n",
    "    def __setitem__(self, key, value):\n",
    "        '''索引赋值语句，类似于 X[key], X[i:j]=sequence'''\n",
    "        if key < len(self.employee):\n",
    "            self.employee[key] = value\n",
    "        else:\n",
    "            self.employee.append(value)\n",
    "\n",
    "    def __delitem__(self, key):\n",
    "        '''索引和分片删除'''\n",
    "        del self.employee[key]\n",
    "\n",
    "    def __call__(self, *args, **kwargs):\n",
    "        '''函数调用，类似于 X(*args, **kwargs) 语句'''\n",
    "        return 1\n",
    "\n",
    "    def __str__(self):\n",
    "        '''格式转换方法，分别对应函数 str(X)'''\n",
    "        return \"company\"\n",
    "\n",
    "    __repr__ = __str__\n",
    "\n",
    "\n",
    "company = Company(['xx', 'ss'])\n",
    "company[0] = 'xumin'\n",
    "company[2] = 'oo'\n",
    "\n",
    "del company[0]\n",
    "\n",
    "for item in company:\n",
    "    print(item)\n",
    "\n",
    "print(company)"
   ]
  },
  {
   "cell_type": "markdown",
   "metadata": {},
   "source": [
    "# python 数据模型"
   ]
  },
  {
   "cell_type": "markdown",
   "metadata": {},
   "source": [
    "数据模型，涉及到知识点其实就是魔法函数\n",
    "\n",
    "**实际上魔法函数是网络上通常的叫法，其实魔法函数只不过是Python数据类型的一个概念而已。**\n",
    "\n",
    "+ 魔法函数会影响 python 语法 company[:2]\n",
    "+ 魔法函数会影响内置函数调用 len(company)"
   ]
  },
  {
   "cell_type": "markdown",
   "metadata": {},
   "source": [
    "# 魔法函数一览"
   ]
  },
  {
   "cell_type": "markdown",
   "metadata": {},
   "source": [
    "## 非数据运算"
   ]
  },
  {
   "cell_type": "markdown",
   "metadata": {},
   "source": [
    "字符串表示\n",
    "\n",
    "+ \\_\\_repr__\n",
    "+ \\_\\_str__\n",
    "\n",
    "集合、序列相关\n",
    "\n",
    "+ \\_\\_len__\n",
    "+ \\_\\_getitem__\n",
    "+ \\_\\_setitem__\n",
    "+ \\_\\_delitem__\n",
    "+ \\_\\_contains__\n",
    "\n",
    "迭代相关\n",
    "\n",
    "+ \\_\\_iter__\n",
    "+ \\_\\_next__\n",
    "\n",
    "可调用\n",
    "\n",
    "+ \\_\\_call__\n",
    "\n",
    "with 上下文管理器\n",
    "\n",
    "+ \\_\\_enter__\n",
    "+ \\_\\_exit__\n",
    "\n",
    "数值转换\n",
    "+ \\_\\_abs__\n",
    "+ \\_\\_bool__\n",
    "+ \\_\\_int__\n",
    "+ \\_\\_float__\n",
    "+ \\_\\_hash__\n",
    "+ \\_\\_ndex__\n",
    "    \n",
    "    \n",
    "元类相关\n",
    "+ \\_\\_new__\n",
    "+ \\_\\_init__\n",
    "    \n",
    "    \n",
    "属性相关\n",
    "+ \\_\\_getattr__\n",
    "+ \\_\\_setattr__\n",
    "+ \\_\\_getattribute__\n",
    "+ \\_\\_setattribute__\n",
    "+ \\_\\_dir__\n",
    "    \n",
    "    \n",
    "属性描述符\n",
    "+ \\_\\_get__\n",
    "+ \\_\\_set__\n",
    "+ \\_\\_elete__\n",
    "    \n",
    "    \n",
    "协程\n",
    "+ \\_\\_await__\n",
    "+ \\_\\_aiter__\n",
    "+ \\_\\_anext__\n",
    "+ \\_\\_enter__\n",
    "+ \\_\\_aexit"
   ]
  },
  {
   "cell_type": "markdown",
   "metadata": {},
   "source": [
    "## 数据运算"
   ]
  },
  {
   "cell_type": "markdown",
   "metadata": {},
   "source": [
    "一元运算符\n",
    "+ \\_\\_neg__    -\n",
    "+ \\_\\_pos__    +\n",
    "+ \\_\\_abs__   |x|\n",
    "    \n",
    "    \n",
    "二元运算符\n",
    "+ \\_\\_lt__    <\n",
    "+ \\_\\_le__    <=\n",
    "+ \\_\\_eq__    ==\n",
    "+ \\_\\_ne__    != \n",
    "+ \\_\\_gt__    > \n",
    "+ \\_\\_ge__    >=\n",
    "    \n",
    "    \n",
    "算术运算符\n",
    "+ \\_\\_add__         +\n",
    "+ \\_\\_sub__         -\n",
    "+ \\_\\_mul__         * \n",
    "+ \\_\\_truediv__     /\n",
    "+ \\_\\_floordiv__    // \n",
    "+ \\_\\_mod__         % \n",
    "+ \\_\\_divmod__      divmod() \n",
    "+ \\_\\_pow__         ** 或 pow()\n",
    "+ \\_\\_round__       round()\n",
    "\n",
    "\n",
    "反向算术运算符\n",
    "+ \\_\\_radd__ \n",
    "+ \\_\\_rsub__ \n",
    "+ \\_\\_rmul__ \n",
    "+ \\_\\_rtruediv__ \n",
    "+ \\_\\_rfloordiv__ \n",
    "+ \\_\\_rmod__ \n",
    "+ \\_\\_rdivmod__ \n",
    "+ \\_\\_rpow__\n",
    "\n",
    "\n",
    "增量赋值算术运算符\n",
    "+ \\_\\_iadd__ \n",
    "+ \\_\\_isub__ \n",
    "+ \\_\\_imul__ \n",
    "+ \\_\\_itruediv__ \n",
    "+ \\_\\_ifloordiv__ \n",
    "+ \\_\\_imod__ \n",
    "+ \\_\\_ipow__\n",
    "\n",
    "\n",
    "位运算符\n",
    "+ \\_\\_invert__    ~ \n",
    "+ \\_\\_lshift__    << \n",
    "+ \\_\\_rshift__    >> \n",
    "+ \\_\\_and__       & \n",
    "+ \\_\\_or__        | \n",
    "+ \\_\\_xor__       ^\n",
    "\n",
    "\n",
    "反向位运算符\n",
    "+ \\_\\_rlshift__ \n",
    "+ \\_\\_rrshift__ \n",
    "+ \\_\\_rand__ \n",
    "+ \\_\\_rxor__ \n",
    "+ \\_\\_ror__\n",
    "    \n",
    "    \n",
    "增量赋值位运算符\n",
    "+ \\_\\_ilshift__ \n",
    "+ \\_\\_irshift__ \n",
    "+ \\_\\_iand__ \n",
    "+ \\_\\_ixor__ \n",
    "+ \\_\\_ior__"
   ]
  },
  {
   "cell_type": "code",
   "execution_count": 2,
   "metadata": {},
   "outputs": [
    {
     "name": "stdout",
     "output_type": "stream",
     "text": [
      "1\n",
      "Vector(3, 7)\n"
     ]
    }
   ],
   "source": [
    "class Num:\n",
    "    def __init__(self, num):\n",
    "        self.num = num\n",
    "\n",
    "    def __abs__(self):\n",
    "        return abs(self.num)\n",
    "\n",
    "\n",
    "n = Num(-1)\n",
    "print(abs(n))\n",
    "\n",
    "\n",
    "class Vector:\n",
    "    def __init__(self, x, y):\n",
    "        self.x = x\n",
    "        self.y = y\n",
    "\n",
    "    def __add__(self, other):\n",
    "        return Vector(self.x + other.x, self.y + other.y)\n",
    "\n",
    "    def __str__(self):\n",
    "        return 'Vector(%s, %s)' % (self.x, self.y)\n",
    "\n",
    "\n",
    "v1 = Vector(1, 3)\n",
    "v2 = Vector(2, 4)\n",
    "print(v1 + v2)"
   ]
  },
  {
   "cell_type": "markdown",
   "metadata": {},
   "source": [
    "# len函数的特殊性\n",
    "\n",
    "len函数不仅仅调用__len__方法这么简单，len函数对于set dict list等Python原生数据结构做了内部的优化，其性能是非常高的。应为原生数据结构中，会有一个专门的字段来储存数据长度，那么len函数会直接去读取这个字段，而不会去遍历它。"
   ]
  }
 ],
 "metadata": {
  "interpreter": {
   "hash": "a84367e06d81b283738822b4c3545326a8c48bec7fd7a2bbea16776a67f04a11"
  },
  "kernelspec": {
   "display_name": "Python 3.8.12 ('d2l-zh')",
   "language": "python",
   "name": "python3"
  },
  "language_info": {
   "codemirror_mode": {
    "name": "ipython",
    "version": 3
   },
   "file_extension": ".py",
   "mimetype": "text/x-python",
   "name": "python",
   "nbconvert_exporter": "python",
   "pygments_lexer": "ipython3",
   "version": "3.8.12"
  },
  "orig_nbformat": 4
 },
 "nbformat": 4,
 "nbformat_minor": 2
}
