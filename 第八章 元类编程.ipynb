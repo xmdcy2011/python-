{
 "cells": [
  {
   "cell_type": "markdown",
   "metadata": {},
   "source": [
    "# property 动态属性"
   ]
  },
  {
   "cell_type": "markdown",
   "metadata": {},
   "source": [
    "+ 对外展示 user.age; 内部存储 self._age\n",
    "+ 动态属性 property 内部有更多的逻辑操作空间\n",
    "+ user.age = 100 仔细体会内部处理过程"
   ]
  },
  {
   "cell_type": "code",
   "execution_count": null,
   "metadata": {},
   "outputs": [],
   "source": [
    "from datetime import date\n",
    "\n",
    "class User:\n",
    "    def __init__(self, name, birthday):\n",
    "        self.name = name\n",
    "        self.birthday = birthday\n",
    "        self._age = 0   # _ 一种编程规范\n",
    "\n",
    "    @property\n",
    "    def age(self):\n",
    "        return date.today().year - self.birthday.year\n",
    "\n",
    "    @age.setter\n",
    "    def age(self, value):\n",
    "        self._age = value\n",
    "\n",
    "    def get_age(self):\n",
    "        return self._age\n",
    "\n",
    "\n",
    "if __name__ == '__main__':\n",
    "    user = User('linda', date(1987, 11, 14))\n",
    "    print(user.age)     # @property 用变量的方式去封装逻辑\n",
    "    user.age = 100      # @age.setter 接收参数\n",
    "    print(user.get_age())   # self._age 实例内部有存储的变量 _age"
   ]
  },
  {
   "cell_type": "markdown",
   "metadata": {},
   "source": [
    "# __getattr__、__getattribute__魔法函数"
   ]
  },
  {
   "cell_type": "code",
   "execution_count": null,
   "metadata": {},
   "outputs": [],
   "source": [
    "class User:\n",
    "    def __init__(self, name):\n",
    "        self.name = name\n",
    "\n",
    "    def __getattr__(self, item):\n",
    "        return 'Not found attribute %s' % item\n",
    "\n",
    "if __name__ == '__main__':\n",
    "    user = User('linda')\n",
    "    print(user.age) # Not found attribute age\n",
    "\n",
    "# __getattr__, 在查找不到属性的时候调用\n",
    "# 类似 else 机制"
   ]
  },
  {
   "cell_type": "code",
   "execution_count": null,
   "metadata": {},
   "outputs": [],
   "source": [
    "class User:\n",
    "    def __init__(self, info=None):\n",
    "        if not info:\n",
    "            info = {}\n",
    "        self.info = info\n",
    "\n",
    "    def __getattr__(self, item):\n",
    "        return self.info[item]\n",
    "\n",
    "# 神奇的代理操作\n",
    "if __name__ == '__main__':\n",
    "    user = User({'name': 'linda', 'age': 18})\n",
    "    print(user.name)\n",
    "    print(user.age)\n",
    "  "
   ]
  },
  {
   "cell_type": "code",
   "execution_count": null,
   "metadata": {},
   "outputs": [],
   "source": [
    "class User:\n",
    "    def __init__(self, name):\n",
    "        self.name = name\n",
    "\n",
    "    def __getattribute__(self, item):\n",
    "        return 'get_attribute'\n",
    "\n",
    "# 只要调用属性，就会触发 __getattribute__\n",
    "# 把持了整个属性调用入口，尽量不要重写这个方法\n",
    "# 写框架时会涉及到\n",
    "if __name__ == '__main__':\n",
    "    user = User('linda')\n",
    "    print(user.name)    # get_attribute\n",
    "    print(user.test)    # get_attribute\n",
    "    print(user.other)   # get_attribute"
   ]
  },
  {
   "cell_type": "markdown",
   "metadata": {},
   "source": [
    "# 属性描述符和属性查找过程"
   ]
  },
  {
   "cell_type": "markdown",
   "metadata": {},
   "source": [
    "property 实现在数据获取和设置时增加额外逻辑处理，并对外提供简单接口\n",
    "\n",
    "在批量属性操作，如验证，则需要每个属性都要写一遍，代码重复\n",
    "\n",
    "+ 数据属性描述符：实现 \\_\\_get__ 和 \\_\\_set__ 方法\n",
    "+ 非数据属性描述符： 实现 \\_\\_get__ 方法"
   ]
  },
  {
   "cell_type": "markdown",
   "metadata": {},
   "source": []
  },
  {
   "cell_type": "code",
   "execution_count": null,
   "metadata": {},
   "outputs": [],
   "source": [
    "import numbers\n",
    "\n",
    "class IntField:\n",
    "    def __init__(self):\n",
    "        self._data = None\n",
    "\n",
    "    def __get__(self, instance, owner):\n",
    "        print(id(IntField))\n",
    "        print(id(self))\n",
    "        print(instance)     # <__main__.User object at 0x000002B88B270288>\n",
    "        print(owner)        # <class '__main__.User'>\n",
    "        print(type(instance) is owner)          # True\n",
    "        print(instance.__class__ is owner)      # True\n",
    "        return self._data\n",
    "\n",
    "    def __set__(self, instance, value):\n",
    "        if not isinstance(value, numbers.Integral):\n",
    "            raise ValueError('Need int value')\n",
    "        # 重点来了，如何保存 value 呢，instance or self\n",
    "        # 如果 instance.attribute 又会触发 __set__ 描述符\n",
    "        self._data = value\n",
    "\n",
    "    def __delete__(self, instance):\n",
    "        pass\n",
    "\n",
    "\n",
    "class User:\n",
    "    age = IntField()\n",
    "    num = IntField()\n",
    "\n",
    "\n",
    "if __name__ == '__main__':\n",
    "    user = User()\n",
    "    user.age = 18\n",
    "    print(user.__dict__)    # {} \"age\" 并没有进入到 __dict__\n",
    "\n",
    "    print(user.age)"
   ]
  },
  {
   "cell_type": "markdown",
   "metadata": {},
   "source": [
    "## 转变原先简单的属性获取顺序\n",
    "\n",
    "user 某个类实例，user.age 等价于 getattr(user, 'age')\n",
    "\n",
    "首先调用 \\_\\_getattribute__\n",
    "    如果定义了 \\_\\_getattr__ 方法，调用 \\_\\_getattribute__ 抛出异常 AttributeError 触发__getattr__\n",
    "    而对于描述符(\\_\\_get__)的调用，则是发生在 __getattribute__内部\n",
    "\n",
    "user = User(), 调用 user.age 顺序如下：\n",
    "1. 如果 'age' 是出现在 User 或基类的 \\_\\_dict__ 中，且 age 是data descriptor，那么调用其 \\_\\_get__(instance, owner) 方法，否则\n",
    "2. 如果 'age' 出现在 user 的 \\_\\_dict__ 中，那么直接返回 user.\\_\\_dict__['age']，否则\n",
    "3. 如果 'age' 出现在 User 或基类的 \\_\\_dict__ 中\n",
    "    - 如果 age 是 non-data descriptor, 那么调用其 \\_\\_get__ 方法，否则\n",
    "    - 返回 User.\\_\\_dict__['age']\n",
    "4. 如果 User 有 \\_\\_getattr__ 方法，调用 \\_\\_getattr__ 方法，否则\n",
    "5. 抛出异常 AttributeError"
   ]
  },
  {
   "cell_type": "code",
   "execution_count": null,
   "metadata": {},
   "outputs": [],
   "source": [
    "# 属性描述符优先级最高\n",
    "class NonDataIntFiled:\n",
    "    def __get__(self, instance, owner):\n",
    "        print(instance)\n",
    "        print(owner)\n",
    "        return 100\n",
    "\n",
    "class User:\n",
    "    age = NonDataIntFiled()\n",
    "\n",
    "if __name__ == '__main__':\n",
    "    user = User()\n",
    "    # user.__dict__['age'] = 18\n",
    "    # user.age = 18\n",
    "    print(user.__dict__)\n",
    "    print(user.age)"
   ]
  },
  {
   "cell_type": "markdown",
   "metadata": {},
   "source": [
    "# __new__ 和 __init__ 的区别"
   ]
  },
  {
   "cell_type": "markdown",
   "metadata": {},
   "source": [
    "+ 自定义类中 \\_\\_new__: 用来控制对象的生成过程，返回 self 对象，如果没有返回值，则不会调用 \\_\\_init__\n",
    "+ 自定义类中 \\_\\_init__: 用来完善对象，如初始化\n",
    "+ \\_\\_new__ 在 \\_\\_init__ 之前调用"
   ]
  },
  {
   "cell_type": "code",
   "execution_count": null,
   "metadata": {},
   "outputs": [],
   "source": [
    "class User(object):\n",
    "\n",
    "    # 新式类才有，生成对象 user 之前加逻辑\n",
    "    def __new__(cls, *args, **kwargs):\n",
    "        # args = ('linda', )\n",
    "        # kwargs = {'age': 20}\n",
    "        # 与自定义 metaclass 中的 __new__ 有区别\n",
    "        print('from __new__')\n",
    "        print(f'type:{type(args)} args:{args}')\n",
    "        print(f'type:{type(kwargs)} kwargs:{kwargs}')\n",
    "        self = super().__new__(cls)\n",
    "        return self\n",
    "\n",
    "    def __init__(self, name, age=18):\n",
    "        self.name = name\n",
    "        self.age = age\n",
    "        print('from __init__')\n",
    "\n",
    "\n",
    "if __name__ == '__main__':\n",
    "    user = User('linda', age=20)"
   ]
  },
  {
   "cell_type": "markdown",
   "metadata": {},
   "source": [
    "# 自定义元类"
   ]
  },
  {
   "cell_type": "markdown",
   "metadata": {},
   "source": [
    "+ class 关键字 可以字面创建类"
   ]
  },
  {
   "cell_type": "code",
   "execution_count": null,
   "metadata": {},
   "outputs": [],
   "source": [
    "class User:\n",
    "    def __str__(self):\n",
    "        return 'User'\n",
    "class Company:\n",
    "    def __str__(self):\n",
    "        return 'Company'\n",
    "\n",
    "def create_class(name):\n",
    "    if name == 'user':\n",
    "        return User\n",
    "    elif name == 'company':\n",
    "        return Company\n",
    "\n",
    "MyClass = create_class('user')\n",
    "obj = MyClass()\n",
    "print(obj)\n",
    "print(type(obj))    # <class '__main__.create_class.<locals>.User'>"
   ]
  },
  {
   "cell_type": "markdown",
   "metadata": {},
   "source": [
    "+ type 可以动态创建类，动态添加属性和方法"
   ]
  },
  {
   "cell_type": "code",
   "execution_count": null,
   "metadata": {},
   "outputs": [],
   "source": [
    "def func(self):\n",
    "    return 'I am from func.'\n",
    "\n",
    "class Base:\n",
    "    def answer(self):\n",
    "        return 'I am from Base.answer.'\n",
    "\n",
    "# type 动态创建类\n",
    "User = type('User', (Base, ), {'name': 'user', 'func': func})\n",
    "user = User()\n",
    "print(user.name)\n",
    "print(user.func())\n",
    "print(user.answer())\n",
    "print(type(user))"
   ]
  },
  {
   "cell_type": "markdown",
   "metadata": {},
   "source": [
    "+ 元类创建类的类 metaclass(type) -> class -> instance"
   ]
  },
  {
   "cell_type": "code",
   "execution_count": null,
   "metadata": {},
   "outputs": [],
   "source": [
    "class MetaClass(type):\n",
    "    # 用来控制 User 的创建过程 与 User 中的 __new__ 有区别\n",
    "    def __new__(cls, name, bases, attrs, **kw):\n",
    "        return super().__new__(cls, name, bases, attrs, **kw)\n",
    "\n",
    "\n",
    "class User(object, metaclass=MetaClass):\n",
    "\n",
    "    def __init__(self, name):\n",
    "        self.name = name\n",
    "\n",
    "    def bar(self):\n",
    "        print('from bar.')"
   ]
  },
  {
   "cell_type": "markdown",
   "metadata": {},
   "source": [
    "python 在实例化的过程 user = User()\n",
    "\n",
    "- 首先寻找 metaclass，来创建 User，否则\n",
    "- 再次寻找基类 BaseUser 的 metaclass，来创建 User，否则\n",
    "- 接着寻找模块 metaclass，来创建 User，否则\n",
    "- 最后默认 type 为 metaclass 来创建 User"
   ]
  },
  {
   "cell_type": "markdown",
   "metadata": {},
   "source": [
    "# 通过元素实现ORM"
   ]
  },
  {
   "cell_type": "code",
   "execution_count": null,
   "metadata": {},
   "outputs": [],
   "source": [
    "from collections import OrderedDict\n",
    "\n",
    "class Field:\n",
    "    pass\n",
    "\n",
    "\n",
    "class IntField(Field):\n",
    "    def __init__(self, db_column, min_value=0, max_value=100):\n",
    "        self.db_column = db_column\n",
    "        self.min_value = min_value\n",
    "        self.max_value = max_value\n",
    "        self._value = None\n",
    "\n",
    "    def __get__(self, instance, owner):\n",
    "        return self._value\n",
    "\n",
    "    def __set__(self, instance, value):\n",
    "        if not isinstance(value, int):\n",
    "            raise TypeError('need int value')\n",
    "        if value < self.min_value or value > self.max_value:\n",
    "            raise ValueError('need [%s, %s] value' % (self.min_value, self.max_value))\n",
    "        self._value = value\n",
    "\n",
    "\n",
    "class CharField(Field):\n",
    "    def __init__(self, db_column, max_length=32):\n",
    "        self.db_column = db_column\n",
    "        self.max_length = max_length\n",
    "        self._value = None\n",
    "\n",
    "    def __get__(self, instance, owner):\n",
    "        return self._value\n",
    "\n",
    "    def __set__(self, instance, value):\n",
    "        if not isinstance(value, str):\n",
    "            raise TypeError('need str value')\n",
    "        if len(value) > self.max_length:\n",
    "            raise ValueError('len need lower than %s' % self.max_length)\n",
    "        self._value = value\n",
    "\n",
    "\n",
    "# 元类注入一系列属性\n",
    "class MetaClass(type):\n",
    "    def __new__(cls, name, bases, attrs, **kw):\n",
    "        # BaseModel 也会调用 Metaclass，但没有定义 name，age 等属性，可特殊判断\n",
    "        if name == 'BaseModel':\n",
    "            return super().__new__(cls, name, bases, attrs, **kw)\n",
    "\n",
    "        fields = {}\n",
    "        for key, value in attrs.items():\n",
    "            if isinstance(value, Field):\n",
    "                fields[key] = value\n",
    "\n",
    "        attrs_meta = attrs.get('Meta', None)\n",
    "        _meta = {}\n",
    "        db_table = name.lower()\n",
    "        if attrs_meta is not None:\n",
    "            table = getattr(attrs_meta, 'db_table', None)\n",
    "            if not table:\n",
    "                db_table = table\n",
    "\n",
    "        _meta['db_table'] = db_table\n",
    "        attrs['_meta'] = _meta\n",
    "        attrs['fields'] = fields\n",
    "        if attrs.get('Meta'):\n",
    "            del attrs['Meta']\n",
    "        return super().__new__(cls, name, bases, attrs, **kw)\n",
    "\n",
    "\n",
    "class BaseModel(metaclass=MetaClass):\n",
    "    def __init__(self, **kw):\n",
    "        for key, value in kw.items():\n",
    "            setattr(self, key, value)\n",
    "        super().__init__()\n",
    "\n",
    "    def save(self):\n",
    "        fields = OrderedDict(self.fields)\n",
    "        fields_str = \", \".join([value.db_column for value in fields.values()])\n",
    "        values_str = ', '.join([str(getattr(self, field)) if not isinstance(value, CharField)\n",
    "                                else \"'%s'\" % str(getattr(self, field))\n",
    "                                for field, value in fields.items()])\n",
    "        sql = \"insert into %s (%s) values (%s)\" % (self._meta['db_table'], fields_str, values_str)\n",
    "        print(sql)\n",
    "        # insert into user (name1, age) values ('linda', 20)\n",
    "\n",
    "\n",
    "# 自定义类时写少量属性，元类帮助我们注入很多通用属性\n",
    "class User(BaseModel):\n",
    "    name = CharField('name1', max_length=16)\n",
    "    age = IntField('age', min_value=0, max_value=100)\n",
    "\n",
    "    class Meta:\n",
    "        db_table = 'user'\n",
    "\n",
    "\n",
    "if __name__ == '__main__':\n",
    "    user = User(name='linda')\n",
    "    user.age = 20\n",
    "    user.save()"
   ]
  },
  {
   "cell_type": "markdown",
   "metadata": {},
   "source": [
    "ORM 设计思想\n",
    "\n",
    "+ 数据属性描述符(\\_\\_set__, \\_\\_get__) 实现验证操作\n",
    "+ 自定义元类(MetaClass(type)) 实现参数注入\n",
    "+ 自定义 ORM 类(BaseModel) 获取元类注入的参数 进行额外操作\n",
    "+ 自定义元类 注入 objects\n",
    "+ 需特别注意调用层级顺序，\\_\\_new__ 在 \\_\\_init__ 之前，所以 \\_\\_init__ 中可以使用元类注册测参数"
   ]
  }
 ],
 "metadata": {
  "interpreter": {
   "hash": "a84367e06d81b283738822b4c3545326a8c48bec7fd7a2bbea16776a67f04a11"
  },
  "kernelspec": {
   "display_name": "Python 3.8.12 ('d2l-zh')",
   "language": "python",
   "name": "python3"
  },
  "language_info": {
   "codemirror_mode": {
    "name": "ipython",
    "version": 3
   },
   "file_extension": ".py",
   "mimetype": "text/x-python",
   "name": "python",
   "nbconvert_exporter": "python",
   "pygments_lexer": "ipython3",
   "version": "3.8.12"
  },
  "orig_nbformat": 4
 },
 "nbformat": 4,
 "nbformat_minor": 2
}
