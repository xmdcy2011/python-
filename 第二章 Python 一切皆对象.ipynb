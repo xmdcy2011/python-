{
 "cells": [
  {
   "cell_type": "markdown",
   "id": "56d59cdb",
   "metadata": {},
   "source": [
    "# python中一切皆对象"
   ]
  },
  {
   "cell_type": "markdown",
   "id": "f55a3695",
   "metadata": {},
   "source": [
    "## 一切皆对象是python灵活性的根本"
   ]
  },
  {
   "cell_type": "markdown",
   "id": "f6c36c24",
   "metadata": {},
   "source": [
    "+ python是动态语言，面向对象更加彻底\n",
    "+ 函数和类也是对象，属于python的一等公民"
   ]
  },
  {
   "cell_type": "markdown",
   "id": "ad372ce5",
   "metadata": {},
   "source": [
    "**一等公民特性**\n",
    "\n",
    "* 赋值给一个变量\n",
    "* 可以添加到集合对象中\n",
    "* 可以作为参数传递给函数\n",
    "* 可以当做函数的返回值"
   ]
  },
  {
   "cell_type": "code",
   "execution_count": 13,
   "id": "22c96381",
   "metadata": {},
   "outputs": [
    {
     "name": "stdout",
     "output_type": "stream",
     "text": [
      "Hello xumin\n"
     ]
    }
   ],
   "source": [
    "# 赋值给方法给变量\n",
    "def bar(name=\"xx\"):\n",
    "    print(f'Hello {name}')\n",
    "    \n",
    "func = bar\n",
    "func('xumin')"
   ]
  },
  {
   "cell_type": "code",
   "execution_count": 19,
   "id": "fe89efb5",
   "metadata": {},
   "outputs": [
    {
     "name": "stdout",
     "output_type": "stream",
     "text": [
      "Hello xumin\n",
      "<__main__.Person object at 0x7fb916986250>\n"
     ]
    }
   ],
   "source": [
    "# 赋值类给变量 相当于重命名类\n",
    "class Person(object):\n",
    "    def __init__(self,name=\"ss\"):\n",
    "        print(f'Hello {name}')\n",
    "          \n",
    "p = Person\n",
    "person = p('xumin')\n",
    "print(person)"
   ]
  },
  {
   "cell_type": "code",
   "execution_count": 18,
   "id": "2ef85d82",
   "metadata": {},
   "outputs": [
    {
     "name": "stdout",
     "output_type": "stream",
     "text": [
      "Hello xx\n",
      "None\n",
      "Hello ss\n",
      "<__main__.Person object at 0x7fb91623bca0>\n"
     ]
    }
   ],
   "source": [
    "# 可以添加到集合对象中\n",
    "obj_list = []\n",
    "obj_list.append(bar)\n",
    "obj_list.append(Person)\n",
    "for item in obj_list:\n",
    "    print(item())"
   ]
  },
  {
   "cell_type": "code",
   "execution_count": 5,
   "id": "a313629d",
   "metadata": {},
   "outputs": [
    {
     "name": "stdout",
     "output_type": "stream",
     "text": [
      "from decorator_func\n",
      "Hello deco_bar\n"
     ]
    }
   ],
   "source": [
    "def decorator_func():\n",
    "    print('from decorator_func')\n",
    "    return bar\n",
    "\n",
    "# 可以当做函数的返回值\n",
    "deco_bar = decorator_func()\n",
    "deco_bar('deco_bar')"
   ]
  },
  {
   "cell_type": "markdown",
   "metadata": {},
   "source": [
    "## 小试牛刀\n",
    "\n",
    "实际项目中定义Model来管理存储的数据，可以在Model层之上加一些元操作函数，如get，update，delete等等\n",
    "\n",
    "定义handle接收函数预处理数据"
   ]
  },
  {
   "cell_type": "code",
   "execution_count": null,
   "id": "213d094e",
   "metadata": {},
   "outputs": [],
   "source": [
    "def get_record_by_id(_id, handle=None):\n",
    "    record = Model.get(id=_id)\n",
    "    if not record:\n",
    "        return False, '无相关记录'\n",
    "    if handle:\n",
    "        record = handle(record)\n",
    "    return True, record.to_dict"
   ]
  },
  {
   "cell_type": "markdown",
   "id": "58be9b17",
   "metadata": {},
   "source": [
    "# type、object和class之间的关系"
   ]
  },
  {
   "cell_type": "markdown",
   "id": "4069dbd4",
   "metadata": {},
   "source": [
    "## type 实例化常见类型"
   ]
  },
  {
   "cell_type": "code",
   "execution_count": 25,
   "id": "e21b60e5",
   "metadata": {},
   "outputs": [
    {
     "name": "stdout",
     "output_type": "stream",
     "text": [
      "<class 'int'>\n",
      "<class 'type'>\n",
      "<class 'str'>\n",
      "<class 'type'>\n",
      "<class 'type'>\n",
      "<class 'type'>\n"
     ]
    }
   ],
   "source": [
    "a = 1\n",
    "print(type(a)) # a是由int创建来的 \n",
    "print(type(int)) # int是由type创建来的\n",
    "name = 'xumin'\n",
    "print(type(name)) # name是由str创建来的 类str实例化name\n",
    "print(type(str)) # str是由type创建来的 类type实例化str\n",
    "# 所有类都是由type创建而来\n",
    "print(type(object)) # 类 type 实例化 object\n",
    "print(type(type)) # 类 type 实例化 type (具体实现 类似C语言指针)"
   ]
  },
  {
   "cell_type": "markdown",
   "id": "afee214d",
   "metadata": {},
   "source": [
    "## object 是最顶层基类"
   ]
  },
  {
   "cell_type": "code",
   "execution_count": 26,
   "id": "aad01873",
   "metadata": {},
   "outputs": [
    {
     "data": {
      "text/plain": [
       "()"
      ]
     },
     "execution_count": 26,
     "metadata": {},
     "output_type": "execute_result"
    }
   ],
   "source": [
    "str.__bases__ # 类 str 继承 object\n",
    "type.__bases__ # 类 type 继承 object\n",
    "object.__bases__ # object.__bases__ 值为 ()"
   ]
  },
  {
   "cell_type": "markdown",
   "id": "4c672bd5",
   "metadata": {},
   "source": [
    "## type、object、class关系图"
   ]
  },
  {
   "cell_type": "markdown",
   "id": "3ca06648",
   "metadata": {},
   "source": [
    "![type-object-class](img/type-object-class.jpg)"
   ]
  },
  {
   "cell_type": "markdown",
   "id": "4168170f",
   "metadata": {},
   "source": [
    "+ 把 list，dict 等类做成对象，后续后修改特别方便\n",
    "+ object 是所有类的基类，type 也要继承它\n",
    "+ type 也是自身的实例，一切皆对象，一切继承object\n",
    "\n",
    "\n",
    "这张图给我展现了<class 'type'>是个厉害的家伙啊，他把一切都变成了对象，连自己都不放过。所以，有了<class 'type'>你就不缺对象啦，哈哈哈哈。\n",
    "\n",
    "<class 'object'>是所有类的祖先哦，从图上看来，<class 'type'>与<class 'object'>有着不伦的关系啊！！！\n",
    "\n",
    "好啦，课程老师告诉我们，其实上面一系列的不伦关系都是指针这个东西干的，嘿嘿嘿........\n",
    "\n",
    "总结：类都是type的实例 (object也是type的实例，type本身也是自己的实例)，所有的类的顶层基类都是object (type的基类也是object)。Python一切皆对象的哲学就是玩起来的。\n",
    "\n",
    "Python一切皆对象这么做就是为了一切都可以轻易的修改，使得Python非常灵活。C++/Java中的类一旦加载到内存后就不能修改（不绝对，修改很困难）。Python把类都搞成对象了，这样修改起来就很方便。\n",
    "\n",
    "再次梳理：一切类都是由<class 'type'>所生出来的，<class 'object'>很特别，它虽是<class 'type'>的爸爸但也是由<class 'type'>生出来的。"
   ]
  },
  {
   "cell_type": "markdown",
   "id": "d3475e76",
   "metadata": {},
   "source": [
    "# python 中的内置类型"
   ]
  },
  {
   "cell_type": "markdown",
   "id": "d4ecca73",
   "metadata": {},
   "source": [
    "## 对象的三个特征"
   ]
  },
  {
   "cell_type": "markdown",
   "id": "4e779b5d",
   "metadata": {},
   "source": [
    "+ 身份，对象在内存中的地址\n",
    "+ 类型，每个对象都应该有个类型，分类思想\n",
    "+ 值，度量大小"
   ]
  },
  {
   "cell_type": "code",
   "execution_count": 31,
   "id": "e90b6f10",
   "metadata": {},
   "outputs": [
    {
     "data": {
      "text/plain": [
       "'xumin'"
      ]
     },
     "execution_count": 31,
     "metadata": {},
     "output_type": "execute_result"
    }
   ],
   "source": [
    "name = 'xumin'\n",
    "id(name)\n",
    "type(name)\n",
    "name"
   ]
  },
  {
   "cell_type": "markdown",
   "id": "00a1147e",
   "metadata": {},
   "source": [
    "## python 常见数据类型"
   ]
  },
  {
   "cell_type": "markdown",
   "id": "17d5b86e",
   "metadata": {},
   "source": [
    "+ None(全局只有一个)，即解释器启动时定义\n",
    "+ 数值：int、float、complex、bool\n",
    "+ 迭代类型\n",
    "+ 序列类型：list、tuple、str、bytes\n",
    "+ 映射类型：dict\n",
    "+ 集合类型：set、frozenset\n",
    "+ 上下文管理类型：with语句\n",
    "+ 其他：模块类型、class和实例、函数类型、方法类型、代码类型、object对象、type类型、notimplemented类型"
   ]
  },
  {
   "cell_type": "markdown",
   "id": "31280a63",
   "metadata": {},
   "source": [
    "## 小试牛刀"
   ]
  },
  {
   "cell_type": "markdown",
   "id": "d4ad9a28",
   "metadata": {},
   "source": [
    "问：这些常见类型是划分的本质是什么呢，又如何自定义这些类型呢\n",
    "\n",
    "答: 魔法函数"
   ]
  }
 ],
 "metadata": {
  "kernelspec": {
   "display_name": "Python 3 (ipykernel)",
   "language": "python",
   "name": "python3"
  },
  "language_info": {
   "codemirror_mode": {
    "name": "ipython",
    "version": 3
   },
   "file_extension": ".py",
   "mimetype": "text/x-python",
   "name": "python",
   "nbconvert_exporter": "python",
   "pygments_lexer": "ipython3",
   "version": "3.8.12"
  },
  "toc": {
   "base_numbering": 1,
   "nav_menu": {},
   "number_sections": true,
   "sideBar": true,
   "skip_h1_title": false,
   "title_cell": "Table of Contents",
   "title_sidebar": "Contents",
   "toc_cell": false,
   "toc_position": {},
   "toc_section_display": true,
   "toc_window_display": true
  }
 },
 "nbformat": 4,
 "nbformat_minor": 5
}
